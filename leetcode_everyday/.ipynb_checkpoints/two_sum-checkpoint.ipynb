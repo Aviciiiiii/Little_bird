{
  "nbformat": 4,
  "nbformat_minor": 0,
  "metadata": {
    "colab": {
      "provenance": []
    },
    "kernelspec": {
      "name": "python3",
      "display_name": "Python 3"
    },
    "language_info": {
      "name": "python"
    }
  },
  "cells": [
    {
      "cell_type": "code",
      "execution_count": 15,
      "metadata": {
        "id": "iawCZ1GkNxXo"
      },
      "outputs": [],
      "source": [
        "\"\"\"\n",
        "输入：nums = [2,7,11,15], target = 9\n",
        "输出：[0,1]\n",
        "解释：因为 nums[0] + nums[1] == 9 ，返回 [0, 1] 。\n",
        "\n",
        "来源：力扣（LeetCode）\n",
        "链接：https://leetcode.cn/problems/two-sum\n",
        "著作权归领扣网络所有。商业转载请联系官方授权，非商业转载请注明出处。\n",
        "\"\"\"\n",
        "\n",
        "def two_sum(nums, target):\n",
        "  ans = []\n",
        "  dic = {}\n",
        "  for n in range(len(nums)):\n",
        "    dic[nums[n]] = n\n",
        "  for i in range(len(nums)):\n",
        "    indx = target - nums[i]\n",
        "    if indx in nums:\n",
        "      a = i\n",
        "      b = dic[indx]\n",
        "      if a != b:\n",
        "        ans.append(a)\n",
        "        ans.append(b)\n",
        "        return a,b\n",
        "      else:\n",
        "        continue"
      ]
    },
    {
      "cell_type": "code",
      "source": [
        "nums = [2, 7, 11, 15]\n",
        "target = 9\n",
        "two_sum(nums, target)"
      ],
      "metadata": {
        "colab": {
          "base_uri": "https://localhost:8080/"
        },
        "id": "d6qes8tqVhS5",
        "outputId": "aa0b8cd8-ac3a-4ebc-fe27-e659dbe32e0e"
      },
      "execution_count": 16,
      "outputs": [
        {
          "output_type": "execute_result",
          "data": {
            "text/plain": [
              "(0, 1)"
            ]
          },
          "metadata": {},
          "execution_count": 16
        }
      ]
    },
    {
      "cell_type": "code",
      "source": [],
      "metadata": {
        "id": "jbb7OP8DVt0S"
      },
      "execution_count": null,
      "outputs": []
    }
  ]
}