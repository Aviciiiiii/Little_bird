{
 "cells": [
  {
   "cell_type": "markdown",
   "id": "cc0788e0-d2f9-4cb6-889f-48122067338f",
   "metadata": {},
   "source": [
    "# 外观数列"
   ]
  },
  {
   "cell_type": "code",
   "execution_count": null,
   "id": "ced3773d-3684-4c1a-a2ac-6213e73589a8",
   "metadata": {},
   "outputs": [],
   "source": [
    "给定一个正整数 n ，输出外观数列的第 n 项。\n",
    "\n",
    "「外观数列」是一个整数序列，从数字 1 开始，序列中的每一项都是对前一项的描述。\n",
    "\n",
    "你可以将其视作是由递归公式定义的数字字符串序列：\n",
    "\n",
    "countAndSay(1) = \"1\"\n",
    "countAndSay(n) 是对 countAndSay(n-1) 的描述，然后转换成另一个数字字符串。\n",
    "前五项如下：\n",
    "\n",
    "1.     1\n",
    "2.     11\n",
    "3.     21\n",
    "4.     1211\n",
    "5.     111221\n",
    "第一项是数字 1 \n",
    "描述前一项，这个数是 1 即 “ 一 个 1 ”，记作 \"11\"\n",
    "描述前一项，这个数是 11 即 “ 二 个 1 ” ，记作 \"21\"\n",
    "描述前一项，这个数是 21 即 “ 一 个 2 + 一 个 1 ” ，记作 \"1211\"\n",
    "描述前一项，这个数是 1211 即 “ 一 个 1 + 一 个 2 + 二 个 1 ” ，记作 \"111221\"\n",
    "要 描述 一个数字字符串，首先要将字符串分割为 最小 数量的组，每个组都由连续的最多 相同字符 组成。然后对于每个组，先描述字符的数量，然后描述字符，形成一个描述组。要将描述转换为数字字符串，先将每组中的字符数量用数字替换，再将所有描述组连接起来。\n",
    "示例 1：\n",
    "\n",
    "输入：n = 1\n",
    "输出：\"1\"\n",
    "解释：这是一个基本样例。\n",
    "示例 2：\n",
    "\n",
    "输入：n = 4\n",
    "输出：\"1211\"\n",
    "解释：\n",
    "countAndSay(1) = \"1\"\n",
    "countAndSay(2) = 读 \"1\" = 一 个 1 = \"11\"\n",
    "countAndSay(3) = 读 \"11\" = 二 个 1 = \"21\"\n",
    "countAndSay(4) = 读 \"21\" = 一 个 2 + 一 个 1 = \"12\" + \"11\" = \"1211\"\n",
    " \n",
    "\n",
    "提示：\n",
    "\n",
    "1 <= n <= 30"
   ]
  },
  {
   "cell_type": "code",
   "execution_count": 8,
   "id": "74b1004e-2dc7-42ee-8b02-0a468229e3fd",
   "metadata": {
    "tags": []
   },
   "outputs": [],
   "source": [
    "\"\"\"\n",
    "思路：从头开始计算该数字n的特殊写法，直到计算到n-1的特殊写法，特殊写法使用helper函数单独计算。\n",
    "    特殊写法可以解释为 当发现后一个数字与当前数字不同，则计算当前数字重复次数与当前数字相加。\n",
    "\"\"\"\n",
    "class Solution(object):\n",
    "    def countAndSay(self, n):\n",
    "        \"\"\"\n",
    "        :type n: int\n",
    "        :rtype: str\n",
    "        \"\"\"\n",
    "\n",
    "        def helper(stre):\n",
    "            \n",
    "            # 为了使自字符可以相加\n",
    "            stre = str(stre)\n",
    "            \n",
    "            # 用来累积结果字符\n",
    "            res = \"\"\n",
    "            \n",
    "            # keep记录上一个重复字符位置\n",
    "            keep = -1\n",
    "            if len(stre) == 1:\n",
    "                return \"1\" + stre\n",
    "\n",
    "            for n in range(len(stre)-1):\n",
    "                # 检查遍历的当前字符是否等于下一个字符\n",
    "                if stre[n+1] != stre[n]:\n",
    "                    \n",
    "                    # 字符不同则统计前字符重复次数与字符本身\n",
    "                    res += str(n-keep) + stre[n]\n",
    "                    keep = n #记录下次统计位置\n",
    "            res += str((len(stre) - 1) - keep) + stre[len(stre)-1]\n",
    "            return res\n",
    "\n",
    "        dict = {0:\"1\"} #dict用来记录n所指代的特殊写法\n",
    "        \n",
    "        # 遍历直到n-1字符\n",
    "        for i in range(1, n+1):\n",
    "            dict[i] = helper(dict[i-1])\n",
    "        return dict[n-1]"
   ]
  },
  {
   "cell_type": "code",
   "execution_count": 6,
   "id": "b65b7d6e-0fc3-4ac4-a693-d37791b61123",
   "metadata": {
    "tags": []
   },
   "outputs": [
    {
     "data": {
      "text/plain": [
       "'1211'"
      ]
     },
     "execution_count": 6,
     "metadata": {},
     "output_type": "execute_result"
    }
   ],
   "source": [
    "Solution().countAndSay(4)"
   ]
  },
  {
   "cell_type": "code",
   "execution_count": null,
   "id": "65bc1992-7b77-4b4d-88a5-d69638a7e47a",
   "metadata": {},
   "outputs": [],
   "source": []
  }
 ],
 "metadata": {
  "kernelspec": {
   "display_name": "Python 3 (ipykernel)",
   "language": "python",
   "name": "python3"
  },
  "language_info": {
   "codemirror_mode": {
    "name": "ipython",
    "version": 3
   },
   "file_extension": ".py",
   "mimetype": "text/x-python",
   "name": "python",
   "nbconvert_exporter": "python",
   "pygments_lexer": "ipython3",
   "version": "3.10.12"
  }
 },
 "nbformat": 4,
 "nbformat_minor": 5
}
