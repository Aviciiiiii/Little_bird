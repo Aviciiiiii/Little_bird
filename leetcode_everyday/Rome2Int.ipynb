{
  "nbformat": 4,
  "nbformat_minor": 0,
  "metadata": {
    "colab": {
      "provenance": []
    },
    "kernelspec": {
      "name": "python3",
      "display_name": "Python 3"
    },
    "language_info": {
      "name": "python"
    }
  },
  "cells": [
    {
      "cell_type": "markdown",
      "source": [
        "#Rome2Int\n",
        "罗马数字包含以下七种字符: I， V， X， L，C，D 和 M。\n",
        "\n",
        "字符          数值\n",
        "I             1\n",
        "V             5\n",
        "X             10\n",
        "L             50\n",
        "C             100\n",
        "D             500\n",
        "M             1000\n",
        "例如， 罗马数字 2 写做 II ，即为两个并列的 1 。12 写做 XII ，即为 X + II 。 27 写做  XXVII, 即为 XX + V + II 。\n",
        "\n",
        "通常情况下，罗马数字中小的数字在大的数字的右边。但也存在特例，例如 4 不写做 IIII，而是 IV。数字 1 在数字 5 的左边，所表示的数等于大数 5 减小数 1 得到的数值 4 。同样地，数字 9 表示为 IX。这个特殊的规则只适用于以下六种情况：\n",
        "\n",
        "I 可以放在 V (5) 和 X (10) 的左边，来表示 4 和 9。\n",
        "X 可以放在 L (50) 和 C (100) 的左边，来表示 40 和 90。 \n",
        "C 可以放在 D (500) 和 M (1000) 的左边，来表示 400 和 900。\n",
        "给定一个罗马数字，将其转换成整数。\n",
        "\n",
        " \n",
        "\n",
        "示例 1:\n",
        "\n",
        "输入: s = \"III\"\n",
        "输出: 3\n",
        "\n",
        "来源：力扣（LeetCode）\n",
        "链接：https://leetcode.cn/problems/roman-to-integer\n",
        "著作权归领扣网络所有。商业转载请联系官方授权，非商业转载请注明出处。"
      ],
      "metadata": {
        "id": "guMt_m4c7Peb"
      }
    },
    {
      "cell_type": "code",
      "source": [
        "#思路：遍历一遍罗马数字，通过字典查找对于数字，来叠加数字。通过比较前一个字符是否小于当前字符来考虑4/9情况\n",
        "def rome2int(s):\n",
        "  dic = {'M': 1000, 'CM': 900, 'D': 500, 'CD': 400, 'C': 100, 'XC': 90, 'L': 50, 'XL': 40, 'X': 10, 'IX': 9, 'V': 5, 'IV': 4, 'I': 1, '0': 0}\n",
        "  count = dic[s[0]]\n",
        "  for i in range(1, len(s)):\n",
        "    if dic[s[i-1]] < dic[s[i]]:\n",
        "      count += dic[s[i-1 : i+1]]\n",
        "      count -= dic[s[i-1]] #记得减去之前加的单字符数值\n",
        "      continue\n",
        "    count += dic[s[i]]\n",
        "  return count"
      ],
      "metadata": {
        "id": "ugVxyiFL4FIg"
      },
      "execution_count": null,
      "outputs": []
    },
    {
      "cell_type": "code",
      "source": [
        "a = 'LVIII'\n",
        "rome2int(a)"
      ],
      "metadata": {
        "colab": {
          "base_uri": "https://localhost:8080/"
        },
        "id": "zTmF39Q1wiAh",
        "outputId": "a4b92818-5bc4-4807-9fff-13c06e0fdeed"
      },
      "execution_count": null,
      "outputs": [
        {
          "output_type": "execute_result",
          "data": {
            "text/plain": [
              "58"
            ]
          },
          "metadata": {},
          "execution_count": 16
        }
      ]
    }
  ]
}