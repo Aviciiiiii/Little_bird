{
  "nbformat": 4,
  "nbformat_minor": 0,
  "metadata": {
    "colab": {
      "provenance": []
    },
    "kernelspec": {
      "name": "python3",
      "display_name": "Python 3"
    },
    "language_info": {
      "name": "python"
    }
  },
  "cells": [
    {
      "cell_type": "markdown",
      "source": [
        "##最长回文子串\n",
        "\n",
        "给你一个字符串 s，找到 s 中最长的回文子串。\n",
        "\n",
        "如果字符串的反序与原始字符串相同，则该字符串称为回文字符串。\n",
        "\n",
        " \n",
        "\n",
        "示例 1：\n",
        "\n",
        "输入：s = \"babad\"\n",
        "输出：\"bab\"\n",
        "解释：\"aba\" 同样是符合题意的答案。\n",
        "\n",
        "来源：力扣（LeetCode）\n",
        "链接：https://leetcode.cn/problems/longest-palindromic-substring\n",
        "著作权归领扣网络所有。商业转载请联系官方授权，非商业转载请注明出处。"
      ],
      "metadata": {
        "id": "loOaf5Hn9Vvm"
      }
    },
    {
      "cell_type": "code",
      "source": [
        "\"\"\"\n",
        "思路：参考了经典的Manacher's Algorithm(技巧：往列表里填充#，使字符数始终为奇数)\n",
        "设定i指针对列表进行遍历，在遍历进程中，计算以new_str[i]为中心的最大回文子串半径，保存好这个子串的位置信息(start, right, length),以便最后对s进行截取\n",
        "\"\"\"\n",
        "def longest_palindrome(s):\n",
        "  new_str = \"#\" + \"#\".join(s) + \"#\" #填充#，去除列表奇偶数的困扰\n",
        "  center = 0\n",
        "  right = 0\n",
        "  max_len = 0\n",
        "  start = 0\n",
        "  radius = [0] * len(new_str) #用来记录最大回文子串半径\n",
        "  for i in range(len(new_str)):\n",
        "\n",
        "    #下面是算法最关键部分：扩充半径的同时 提前用三个条件来限制半径：不超过左边界；不超过右边界；如果半径加一对应的字符相等\n",
        "    while (i - radius[i]) > 0 and (i + radius[i]) < (len(new_str) - 1) and new_str[i - radius[i] -1] ==  new_str[i + radius[i] + 1]:\n",
        "      radius[i] += 1\n",
        "    \n",
        "    if i + radius[i] > right: #更新右边界和最大回文子串中心\n",
        "      right = i + radius[i]\n",
        "      center = i\n",
        "    \n",
        "    if radius[i] > max_len: #更新原列表中最大回文子串长度和起始位置\n",
        "      max_len = radius[i]\n",
        "      start = (i - radius[i]) // 2 #要//2是因为前面有#填充\n",
        "    \n",
        "  return s[start : start + max_len]\n",
        "\n"
      ],
      "metadata": {
        "id": "WuhNlzqhenVY"
      },
      "execution_count": null,
      "outputs": []
    },
    {
      "cell_type": "code",
      "source": [
        "a = 'aba'\n",
        "longest_palindrome(a)"
      ],
      "metadata": {
        "colab": {
          "base_uri": "https://localhost:8080/",
          "height": 37
        },
        "id": "TG_GxVGdz8eR",
        "outputId": "364b8323-3abe-4772-9602-51ed1b6f2ee0"
      },
      "execution_count": null,
      "outputs": [
        {
          "output_type": "execute_result",
          "data": {
            "text/plain": [
              "'aba'"
            ],
            "application/vnd.google.colaboratory.intrinsic+json": {
              "type": "string"
            }
          },
          "metadata": {},
          "execution_count": 11
        }
      ]
    }
  ]
}