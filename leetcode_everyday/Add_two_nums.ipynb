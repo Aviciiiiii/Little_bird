{
  "nbformat": 4,
  "nbformat_minor": 0,
  "metadata": {
    "colab": {
      "provenance": []
    },
    "kernelspec": {
      "name": "python3",
      "display_name": "Python 3"
    },
    "language_info": {
      "name": "python"
    }
  },
  "cells": [
    {
      "cell_type": "code",
      "execution_count": null,
      "metadata": {
        "id": "6SMmanND3V0J"
      },
      "outputs": [],
      "source": []
    },
    {
      "cell_type": "code",
      "source": [
        "class Link:\n",
        "  empty = ()\n",
        "  def __init__(self, first, rest=empty):\n",
        "    assert rest is Link.empty or isinstance(rest, Link)\n",
        "    self.first = first\n",
        "    self.rest = rest\n",
        "  def __getitem__(self, i):\n",
        "    if i == 0:\n",
        "      return self.rest\n",
        "    else:\n",
        "      return self.rest[i-1]\n",
        "  def __len__(self):\n",
        "    return 1 + len(self.rest)"
      ],
      "metadata": {
        "id": "sPJWhEsgf-9T"
      },
      "execution_count": 1,
      "outputs": []
    },
    {
      "cell_type": "code",
      "source": [
        "lk1 = Link(0)"
      ],
      "metadata": {
        "id": "CtAHc-LjJlkf"
      },
      "execution_count": 2,
      "outputs": []
    },
    {
      "cell_type": "code",
      "source": [
        "lk2 = Link(Link.empty)\n",
        "lk2"
      ],
      "metadata": {
        "colab": {
          "base_uri": "https://localhost:8080/"
        },
        "id": "CfVKh1kzJpNx",
        "outputId": "6afd8188-5099-4c01-ff7c-0e604649a2e6"
      },
      "execution_count": 3,
      "outputs": [
        {
          "output_type": "execute_result",
          "data": {
            "text/plain": [
              "<__main__.Link at 0x7fbb01c7e9a0>"
            ]
          },
          "metadata": {},
          "execution_count": 3
        }
      ]
    },
    {
      "cell_type": "code",
      "source": [
        "def link_expression(lk):\n",
        "  if lk.rest is Link.empty:\n",
        "    rest = ''\n",
        "  else:\n",
        "    rest = ', ' + link_expression(lk.rest)\n",
        "  return 'Link({0}{1})'.format(lk.first, rest)"
      ],
      "metadata": {
        "id": "P9lu9637TTs8"
      },
      "execution_count": 4,
      "outputs": []
    },
    {
      "cell_type": "code",
      "source": [
        "lst = [1, 2, 3]\n",
        "for i in range(len(lst)):\n",
        "  a = lst.pop(0)\n",
        "  print(a)"
      ],
      "metadata": {
        "colab": {
          "base_uri": "https://localhost:8080/"
        },
        "id": "drqgdaQCVFJ1",
        "outputId": "c6da2cc1-392c-42e6-bbcb-9dbfadc2c469"
      },
      "execution_count": 5,
      "outputs": [
        {
          "output_type": "stream",
          "name": "stdout",
          "text": [
            "1\n",
            "2\n",
            "3\n"
          ]
        }
      ]
    },
    {
      "cell_type": "code",
      "source": [
        "#思路是将链表转为列表，将两列表相加。再将生成列表转为链表\n",
        "#时间复杂度为O(n + m)，其中n,m为两个链表的长度\n",
        "from collections import deque\n",
        "def two_add(lk1, lk2):\n",
        "  lst1 = []\n",
        "  lst2 = []\n",
        "  for _ in range(len(lk1)):\n",
        "    lst1.append(lk1.first)\n",
        "    if lk1.rest != Link.empty:\n",
        "      lk1 = lk1.rest\n",
        "    else:\n",
        "      continue\n",
        "  for _ in range(len(lk2)):\n",
        "    lst2.append(lk2.first)\n",
        "    if lk2.rest != Link.empty:\n",
        "      lk2 = lk2.rest\n",
        "    else:\n",
        "      continue\n",
        "  count = [0] * max(len(lst1), len(lst2))\n",
        "  for o in range(max(len(lst1), len(lst2))):\n",
        "    try:\n",
        "      num = lst1[o] + lst2[o]\n",
        "      if num <10:\n",
        "        count[o] += num\n",
        "      else:\n",
        "        rmd = num % 10\n",
        "        count[o] += rmd\n",
        "        count[o+1] += 1\n",
        "    except:\n",
        "      try:\n",
        "        num = lst1[o]\n",
        "        count[o] += num\n",
        "      except:\n",
        "        num = lst2[o]\n",
        "        count[o] + num\n",
        "\n",
        "  my_deque = deque(count)\n",
        "  lk = Link(Link.empty)\n",
        "  for u in range(len(count)):\n",
        "    word = my_deque.pop()\n",
        "    lk = Link(word, lk)\n",
        "  return lk\n",
        "  \"\"\"\n",
        "  a = 0\n",
        "  num1 = 0\n",
        "  b = 0\n",
        "  num2 = 0\n",
        "  for n in lst1:\n",
        "    count1 = 10**a\n",
        "    a += 1\n",
        "    num1 += n * count1\n",
        "  print(num1)\n",
        "  for i in lst2:\n",
        "    count2 = 10**b\n",
        "    b += 1\n",
        "    num2 += i * count2\n",
        "  print(num2)\n",
        "  num = num1 + num2\n",
        "  return num\n",
        "  \"\"\""
      ],
      "metadata": {
        "id": "CeeX0-CNs78u"
      },
      "execution_count": 6,
      "outputs": []
    },
    {
      "cell_type": "code",
      "source": [
        "lk1 = Link(0, Link(1, Link(2, Link(3))))\n",
        "lk2 = Link(1, Link(2, Link(3)))\n",
        "link_expression(two_add(lk1, lk2))"
      ],
      "metadata": {
        "colab": {
          "base_uri": "https://localhost:8080/",
          "height": 37
        },
        "id": "VzTRWhJCVmEr",
        "outputId": "1a9d7069-8c86-4a44-d53c-29055eaec786"
      },
      "execution_count": 7,
      "outputs": [
        {
          "output_type": "execute_result",
          "data": {
            "text/plain": [
              "'Link(1, Link(3, Link(5, Link(3, Link(())))))'"
            ],
            "application/vnd.google.colaboratory.intrinsic+json": {
              "type": "string"
            }
          },
          "metadata": {},
          "execution_count": 7
        }
      ]
    },
    {
      "cell_type": "code",
      "source": [
        "lk1 = Link(0, Link(1, Link(2, Link(3))))\n",
        "lk2 = Link(1, Link(2, Link(3)))\n",
        "link_expression(two_add(lk1, lk2))"
      ],
      "metadata": {
        "colab": {
          "base_uri": "https://localhost:8080/",
          "height": 37
        },
        "id": "8TJNPvXZKsfM",
        "outputId": "8872d28e-2118-497f-a605-74b11b1896bb"
      },
      "execution_count": 8,
      "outputs": [
        {
          "output_type": "execute_result",
          "data": {
            "text/plain": [
              "'Link(1, Link(3, Link(5, Link(3, Link(())))))'"
            ],
            "application/vnd.google.colaboratory.intrinsic+json": {
              "type": "string"
            }
          },
          "metadata": {},
          "execution_count": 8
        }
      ]
    }
  ]
}