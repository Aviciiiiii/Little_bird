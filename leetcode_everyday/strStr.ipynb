{
  "nbformat": 4,
  "nbformat_minor": 0,
  "metadata": {
    "colab": {
      "provenance": []
    },
    "kernelspec": {
      "name": "python3",
      "display_name": "Python 3"
    },
    "language_info": {
      "name": "python"
    }
  },
  "cells": [
    {
      "cell_type": "markdown",
      "source": [
        "#First_Match_In_String\n",
        "给你两个字符串 haystack 和 needle ，请你在 haystack 字符串中找出 needle 字符串的第一个匹配项的下标（下标从 0 开始）。如果 needle 不是 haystack 的一部分，则返回  -1 。\n",
        "\n",
        " \n",
        "\n",
        "示例 1：\n",
        "\n",
        "输入：haystack = \"sadbutsad\", needle = \"sad\"\n",
        "输出：0\n",
        "解释：\"sad\" 在下标 0 和 6 处匹配。\n",
        "第一个匹配项的下标是 0 ，所以返回 0 。\n",
        "\n",
        "来源：力扣（LeetCode）\n",
        "链接：https://leetcode.cn/problems/find-the-index-of-the-first-occurrence-in-a-string\n",
        "著作权归领扣网络所有。商业转载请联系官方授权，非商业转载请注明出处。"
      ],
      "metadata": {
        "id": "gFIbISwYgrRP"
      }
    },
    {
      "cell_type": "code",
      "source": [
        "\"\"\"\n",
        "思路：将给定字符串分解为target长度的分别字符串（感觉是利用了卷积神经网络中卷积核的思想），存储在字典里，对应第一个字符索引\n",
        "后在字典里搜寻target\n",
        "\"\"\"\n",
        "def strStr(haystack, needle):\n",
        "  dic = {}\n",
        "  len_str = len(haystack)\n",
        "  len_tar = len(needle)\n",
        "  for i in range(len_str - len_tar + 1):\n",
        "    if haystack[i:i+len_tar] not in dic:\n",
        "      dic[haystack[i:i+len_tar]] = i\n",
        "  if needle in dic:\n",
        "    return dic[needle]\n",
        "  return -1"
      ],
      "metadata": {
        "id": "284eMplAtCei"
      },
      "execution_count": null,
      "outputs": []
    },
    {
      "cell_type": "code",
      "source": [
        "s = \"sadbutsad\"\n",
        "t = \"sad\"\n",
        "an = strStr(s, t)\n",
        "an"
      ],
      "metadata": {
        "colab": {
          "base_uri": "https://localhost:8080/"
        },
        "id": "A-D25YxffUxt",
        "outputId": "127e0527-0854-46be-b662-349a26d0d10f"
      },
      "execution_count": null,
      "outputs": [
        {
          "output_type": "execute_result",
          "data": {
            "text/plain": [
              "0"
            ]
          },
          "metadata": {},
          "execution_count": 9
        }
      ]
    }
  ]
}