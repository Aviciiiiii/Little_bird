{
 "cells": [
  {
   "cell_type": "markdown",
   "id": "d284043c-d530-4c89-b1b6-cff7be3591ee",
   "metadata": {},
   "source": [
    "# 第N高的薪水"
   ]
  },
  {
   "cell_type": "code",
   "execution_count": null,
   "id": "05ccb835-b4f5-40bd-8fb0-09198d198394",
   "metadata": {},
   "outputs": [],
   "source": [
    "表: Employee\n",
    "\n",
    "+-------------+------+\n",
    "| Column Name | Type |\n",
    "+-------------+------+\n",
    "| id          | int  |\n",
    "| salary      | int  |\n",
    "+-------------+------+\n",
    "在 SQL 中，id 是该表的主键。\n",
    "该表的每一行都包含有关员工工资的信息。\n",
    " \n",
    "\n",
    "查询 Employee 表中第 n 高的工资。如果没有第 n 个最高工资，查询结果应该为 null 。\n",
    "\n",
    "查询结果格式如下所示。\n",
    "\n",
    " \n",
    "\n",
    "示例 1:\n",
    "\n",
    "输入: \n",
    "Employee table:\n",
    "+----+--------+\n",
    "| id | salary |\n",
    "+----+--------+\n",
    "| 1  | 100    |\n",
    "| 2  | 200    |\n",
    "| 3  | 300    |\n",
    "+----+--------+\n",
    "n = 2\n",
    "输出: \n",
    "+------------------------+\n",
    "| getNthHighestSalary(2) |\n",
    "+------------------------+\n",
    "| 200                    |\n",
    "+------------------------+\n",
    "示例 2:\n",
    "\n",
    "输入: \n",
    "Employee 表:\n",
    "+----+--------+\n",
    "| id | salary |\n",
    "+----+--------+\n",
    "| 1  | 100    |\n",
    "+----+--------+\n",
    "n = 2\n",
    "输出: \n",
    "+------------------------+\n",
    "| getNthHighestSalary(2) |\n",
    "+------------------------+\n",
    "| null                   |\n",
    "+------------------------+"
   ]
  },
  {
   "cell_type": "code",
   "execution_count": 3,
   "id": "a5969ecb-55aa-4f00-baac-0f117587c1dd",
   "metadata": {},
   "outputs": [],
   "source": [
    "import pandas as pd\n",
    "\"\"\"\n",
    "思路：对表薪水降排序，截取第N个值行, which use.head().tail()\n",
    "Tips: drop_duplicates(), sort_values(by=, ascending), head(), tail()\n",
    "\"\"\"\n",
    "def nth_highest_salary(employee: pd.DataFrame, N: int) -> pd.DataFrame:\n",
    "\n",
    "    # 去除重复薪水行\n",
    "    employee = employee[[\"Salary\"]].drop_duplicates()\n",
    "\n",
    "    # 对原表降排序，后截取第N行，使用.head9).tail()\n",
    "    if N <= len(employee):\n",
    "        return employee.sort_values(by='Salary', ascending=False).head(N).tail(1)\n",
    "\n",
    "    # 考虑空表的情况\n",
    "    else:\n",
    "        return pd.DataFrame()"
   ]
  },
  {
   "cell_type": "code",
   "execution_count": 4,
   "id": "169ea8d1-bfae-47c4-8a4c-67d9143c24e6",
   "metadata": {},
   "outputs": [
    {
     "data": {
      "text/html": [
       "<div>\n",
       "<style scoped>\n",
       "    .dataframe tbody tr th:only-of-type {\n",
       "        vertical-align: middle;\n",
       "    }\n",
       "\n",
       "    .dataframe tbody tr th {\n",
       "        vertical-align: top;\n",
       "    }\n",
       "\n",
       "    .dataframe thead th {\n",
       "        text-align: right;\n",
       "    }\n",
       "</style>\n",
       "<table border=\"1\" class=\"dataframe\">\n",
       "  <thead>\n",
       "    <tr style=\"text-align: right;\">\n",
       "      <th></th>\n",
       "      <th>Salary</th>\n",
       "    </tr>\n",
       "  </thead>\n",
       "  <tbody>\n",
       "    <tr>\n",
       "      <th>1</th>\n",
       "      <td>200</td>\n",
       "    </tr>\n",
       "  </tbody>\n",
       "</table>\n",
       "</div>"
      ],
      "text/plain": [
       "   Salary\n",
       "1     200"
      ]
     },
     "execution_count": 4,
     "metadata": {},
     "output_type": "execute_result"
    }
   ],
   "source": [
    "data = [[1, 100], [2, 200], [3, 300]]\n",
    "employee = pd.DataFrame(data, columns=['Id', 'Salary']).astype({'Id':'Int64', 'Salary':'Int64'})\n",
    "nth_highest_salary(employee, 2)"
   ]
  },
  {
   "cell_type": "code",
   "execution_count": null,
   "id": "27beefb0-767f-45f8-8ed4-24060b72edb5",
   "metadata": {},
   "outputs": [],
   "source": []
  }
 ],
 "metadata": {
  "kernelspec": {
   "display_name": "Python 3 (ipykernel)",
   "language": "python",
   "name": "python3"
  },
  "language_info": {
   "codemirror_mode": {
    "name": "ipython",
    "version": 3
   },
   "file_extension": ".py",
   "mimetype": "text/x-python",
   "name": "python",
   "nbconvert_exporter": "python",
   "pygments_lexer": "ipython3",
   "version": "3.10.12"
  }
 },
 "nbformat": 4,
 "nbformat_minor": 5
}
