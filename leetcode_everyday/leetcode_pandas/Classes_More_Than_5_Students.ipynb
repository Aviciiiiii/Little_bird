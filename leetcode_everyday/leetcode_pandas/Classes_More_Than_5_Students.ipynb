{
 "cells": [
  {
   "cell_type": "markdown",
   "id": "528e2d39-7f2e-4d54-a92f-3766a540c9ca",
   "metadata": {},
   "source": [
    "# 超过5名学生的课"
   ]
  },
  {
   "cell_type": "code",
   "execution_count": null,
   "id": "082db8ea-52b1-46c4-9d6c-bd8886ed249b",
   "metadata": {},
   "outputs": [],
   "source": [
    "表: Courses\n",
    "\n",
    "+-------------+---------+\n",
    "| Column Name | Type    |\n",
    "+-------------+---------+\n",
    "| student     | varchar |\n",
    "| class       | varchar |\n",
    "+-------------+---------+\n",
    "在 SQL 中，(student, class)是该表的主键列。\n",
    "该表的每一行表示学生的名字和他们注册的班级。\n",
    " \n",
    "\n",
    "查询 至少有5个学生 的所有班级。\n",
    "\n",
    "以 任意顺序 返回结果表。\n",
    "\n",
    "查询结果格式如下所示。\n",
    "\n",
    " \n",
    "\n",
    "示例 1:\n",
    "\n",
    "输入: \n",
    "Courses table:\n",
    "+---------+----------+\n",
    "| student | class    |\n",
    "+---------+----------+\n",
    "| A       | Math     |\n",
    "| B       | English  |\n",
    "| C       | Math     |\n",
    "| D       | Biology  |\n",
    "| E       | Math     |\n",
    "| F       | Computer |\n",
    "| G       | Math     |\n",
    "| H       | Math     |\n",
    "| I       | Math     |\n",
    "+---------+----------+\n",
    "输出: \n",
    "+---------+ \n",
    "| class   | \n",
    "+---------+ \n",
    "| Math    | \n",
    "+---------+\n",
    "解释: \n",
    "-数学课有6个学生，所以我们包括它。\n",
    "-英语课有1名学生，所以我们不包括它。\n",
    "-生物课有1名学生，所以我们不包括它。\n",
    "-计算机课有1个学生，所以我们不包括它。"
   ]
  },
  {
   "cell_type": "code",
   "execution_count": 3,
   "id": "1914968c-9d59-45f5-aca5-796fec17faf9",
   "metadata": {
    "tags": []
   },
   "outputs": [],
   "source": [
    "import pandas as pd\n",
    "\"\"\"\n",
    "思路：对科目进行分组，考虑使用count()计数学生数>5 or not，但考虑有重复学生，故使用nunique()来计数\n",
    "Tips: groupby(), nunique(), reset_index(drop)\n",
    "\"\"\"\n",
    "def find_classes(courses: pd.DataFrame) -> pd.DataFrame:\n",
    "    courses = courses.groupby(\"class\")[\"student\"].nunique().reset_index()\n",
    "    return courses[courses[\"student\"] >= 5][[\"class\"]].reset_index(drop=True)"
   ]
  },
  {
   "cell_type": "code",
   "execution_count": 4,
   "id": "c3427676-0e5c-4854-875a-cdb12f34003a",
   "metadata": {
    "tags": []
   },
   "outputs": [
    {
     "data": {
      "text/html": [
       "<div>\n",
       "<style scoped>\n",
       "    .dataframe tbody tr th:only-of-type {\n",
       "        vertical-align: middle;\n",
       "    }\n",
       "\n",
       "    .dataframe tbody tr th {\n",
       "        vertical-align: top;\n",
       "    }\n",
       "\n",
       "    .dataframe thead th {\n",
       "        text-align: right;\n",
       "    }\n",
       "</style>\n",
       "<table border=\"1\" class=\"dataframe\">\n",
       "  <thead>\n",
       "    <tr style=\"text-align: right;\">\n",
       "      <th></th>\n",
       "      <th>class</th>\n",
       "    </tr>\n",
       "  </thead>\n",
       "  <tbody>\n",
       "    <tr>\n",
       "      <th>0</th>\n",
       "      <td>Math</td>\n",
       "    </tr>\n",
       "  </tbody>\n",
       "</table>\n",
       "</div>"
      ],
      "text/plain": [
       "  class\n",
       "0  Math"
      ]
     },
     "execution_count": 4,
     "metadata": {},
     "output_type": "execute_result"
    }
   ],
   "source": [
    "data = [['A', 'Math'], ['B', 'English'], ['C', 'Math'], ['D', 'Biology'], ['E', 'Math'], ['F', 'Computer'], ['G', 'Math'], ['H', 'Math'], ['I', 'Math']]\n",
    "courses = pd.DataFrame(data, columns=['student', 'class']).astype({'student':'object', 'class':'object'})\n",
    "find_classes(courses)"
   ]
  }
 ],
 "metadata": {
  "kernelspec": {
   "display_name": "Python 3 (ipykernel)",
   "language": "python",
   "name": "python3"
  },
  "language_info": {
   "codemirror_mode": {
    "name": "ipython",
    "version": 3
   },
   "file_extension": ".py",
   "mimetype": "text/x-python",
   "name": "python",
   "nbconvert_exporter": "python",
   "pygments_lexer": "ipython3",
   "version": "3.10.12"
  }
 },
 "nbformat": 4,
 "nbformat_minor": 5
}
