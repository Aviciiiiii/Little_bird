{
 "cells": [
  {
   "cell_type": "markdown",
   "id": "dc483377-dba4-4ba7-893c-90d955d9fc95",
   "metadata": {},
   "source": [
    "# 按分类统计薪水"
   ]
  },
  {
   "cell_type": "code",
   "execution_count": null,
   "id": "a98f62ae-d377-486d-a0e1-dad7d26eb43c",
   "metadata": {},
   "outputs": [],
   "source": [
    "表: Accounts\n",
    "\n",
    "+-------------+------+\n",
    "| 列名        | 类型  |\n",
    "+-------------+------+\n",
    "| account_id  | int  |\n",
    "| income      | int  |\n",
    "+-------------+------+\n",
    "在 SQL 中，account_id 是这个表的主键。\n",
    "每一行都包含一个银行帐户的月收入的信息。\n",
    " \n",
    "\n",
    "查询每个工资类别的银行账户数量。 工资类别如下：\n",
    "\n",
    "\"Low Salary\"：所有工资 严格低于 20000 美元。\n",
    "\"Average Salary\"： 包含 范围内的所有工资 [$20000, $50000] 。\n",
    "\"High Salary\"：所有工资 严格大于 50000 美元。\n",
    "\n",
    "结果表 必须 包含所有三个类别。 如果某个类别中没有帐户，则报告 0 。\n",
    "\n",
    "按 任意顺序 返回结果表。\n",
    "\n",
    "查询结果格式如下示例。\n",
    "\n",
    " \n",
    "\n",
    "示例 1：\n",
    "\n",
    "输入：\n",
    "Accounts 表:\n",
    "+------------+--------+\n",
    "| account_id | income |\n",
    "+------------+--------+\n",
    "| 3          | 108939 |\n",
    "| 2          | 12747  |\n",
    "| 8          | 87709  |\n",
    "| 6          | 91796  |\n",
    "+------------+--------+\n",
    "输出：\n",
    "+----------------+----------------+\n",
    "| category       | accounts_count |\n",
    "+----------------+----------------+\n",
    "| Low Salary     | 1              |\n",
    "| Average Salary | 0              |\n",
    "| High Salary    | 3              |\n",
    "+----------------+----------------+\n",
    "解释：\n",
    "低薪: 有一个账户 2.\n",
    "中等薪水: 没有.\n",
    "高薪: 有三个账户，他们是 3, 6和 8."
   ]
  },
  {
   "cell_type": "code",
   "execution_count": 1,
   "id": "33f7352a-e7c4-44ab-9e1a-529f466b2ec7",
   "metadata": {
    "tags": []
   },
   "outputs": [],
   "source": [
    "import pandas as pd\n",
    "\"\"\"\n",
    "思路：分别统计高中低收入人数，后按人数构建新的数据架构\n",
    "Tips:count(), ()&(),\n",
    "\"\"\"\n",
    "def count_salary_categories(accounts: pd.DataFrame) -> pd.DataFrame:\n",
    "    \n",
    "    # 分别统计高中低收入人数\n",
    "    Low_Salary_sum = accounts[accounts['income'] < 20000]['account_id'].count()\n",
    "    Average_Salary_sum = accounts[(accounts['income'] >= 20000) & (accounts['income'] <= 50000)]['account_id'].count()\n",
    "    High_Salary_sum = accounts[accounts['income'] > 50000]['account_id'].count()\n",
    "    \n",
    "    # 构建新数据架构统计三种数据类型\n",
    "    ans = pd.DataFrame({\n",
    "        'category': ['Low Salary', 'Average Salary', 'High Salary'],\n",
    "        'accounts_count': [Low_Salary_sum, Average_Salary_sum, High_Salary_sum]\n",
    "    })\n",
    "    return ans"
   ]
  },
  {
   "cell_type": "code",
   "execution_count": 3,
   "id": "6fbdb14d-ee09-4404-ae56-687bd57a2e4a",
   "metadata": {
    "tags": []
   },
   "outputs": [
    {
     "data": {
      "text/html": [
       "<div>\n",
       "<style scoped>\n",
       "    .dataframe tbody tr th:only-of-type {\n",
       "        vertical-align: middle;\n",
       "    }\n",
       "\n",
       "    .dataframe tbody tr th {\n",
       "        vertical-align: top;\n",
       "    }\n",
       "\n",
       "    .dataframe thead th {\n",
       "        text-align: right;\n",
       "    }\n",
       "</style>\n",
       "<table border=\"1\" class=\"dataframe\">\n",
       "  <thead>\n",
       "    <tr style=\"text-align: right;\">\n",
       "      <th></th>\n",
       "      <th>category</th>\n",
       "      <th>accounts_count</th>\n",
       "    </tr>\n",
       "  </thead>\n",
       "  <tbody>\n",
       "    <tr>\n",
       "      <th>0</th>\n",
       "      <td>Low Salary</td>\n",
       "      <td>1</td>\n",
       "    </tr>\n",
       "    <tr>\n",
       "      <th>1</th>\n",
       "      <td>Average Salary</td>\n",
       "      <td>0</td>\n",
       "    </tr>\n",
       "    <tr>\n",
       "      <th>2</th>\n",
       "      <td>High Salary</td>\n",
       "      <td>3</td>\n",
       "    </tr>\n",
       "  </tbody>\n",
       "</table>\n",
       "</div>"
      ],
      "text/plain": [
       "         category  accounts_count\n",
       "0      Low Salary               1\n",
       "1  Average Salary               0\n",
       "2     High Salary               3"
      ]
     },
     "execution_count": 3,
     "metadata": {},
     "output_type": "execute_result"
    }
   ],
   "source": [
    "data = [[3, 108939], [2, 12747], [8, 87709], [6, 91796]]\n",
    "accounts = pd.DataFrame(data, columns=['account_id', 'income']).astype({'account_id':'Int64', 'income':'Int64'})\n",
    "count_salary_categories(accounts)"
   ]
  },
  {
   "cell_type": "code",
   "execution_count": null,
   "id": "58ef88eb-fcac-4748-b910-5bac1819ac67",
   "metadata": {},
   "outputs": [],
   "source": []
  }
 ],
 "metadata": {
  "kernelspec": {
   "display_name": "Python 3 (ipykernel)",
   "language": "python",
   "name": "python3"
  },
  "language_info": {
   "codemirror_mode": {
    "name": "ipython",
    "version": 3
   },
   "file_extension": ".py",
   "mimetype": "text/x-python",
   "name": "python",
   "nbconvert_exporter": "python",
   "pygments_lexer": "ipython3",
   "version": "3.10.12"
  }
 },
 "nbformat": 4,
 "nbformat_minor": 5
}
