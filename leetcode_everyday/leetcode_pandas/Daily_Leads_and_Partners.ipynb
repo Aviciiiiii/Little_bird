{
 "cells": [
  {
   "cell_type": "markdown",
   "id": "7a8af8ba-50d5-4fe1-a072-ccb48599eae8",
   "metadata": {},
   "source": [
    "# 每天的领导和合伙人"
   ]
  },
  {
   "cell_type": "code",
   "execution_count": null,
   "id": "ebbc37b5-b1b2-489d-9d07-0ec72df22a7f",
   "metadata": {},
   "outputs": [],
   "source": [
    "表：DailySales\n",
    "\n",
    "+-------------+---------+\n",
    "| Column Name | Type    |\n",
    "+-------------+---------+\n",
    "| date_id     | date    |\n",
    "| make_name   | varchar |\n",
    "| lead_id     | int     |\n",
    "| partner_id  | int     |\n",
    "+-------------+---------+\n",
    "该表没有主键(具有唯一值的列)。它可能包含重复项。\n",
    "该表包含日期、产品的名称，以及售给的领导和合伙人的编号。\n",
    "名称只包含小写英文字母。\n",
    " \n",
    "\n",
    "对于每一个 date_id 和 make_name，找出 不同 的 lead_id 以及 不同 的 partner_id 的数量。\n",
    "\n",
    "按 任意顺序 返回结果表。\n",
    "\n",
    "返回结果格式如下示例所示。\n",
    "\n",
    " \n",
    "\n",
    "示例 1:\n",
    "\n",
    "输入：\n",
    "DailySales 表：\n",
    "+-----------+-----------+---------+------------+\n",
    "| date_id   | make_name | lead_id | partner_id |\n",
    "+-----------+-----------+---------+------------+\n",
    "| 2020-12-8 | toyota    | 0       | 1          |\n",
    "| 2020-12-8 | toyota    | 1       | 0          |\n",
    "| 2020-12-8 | toyota    | 1       | 2          |\n",
    "| 2020-12-7 | toyota    | 0       | 2          |\n",
    "| 2020-12-7 | toyota    | 0       | 1          |\n",
    "| 2020-12-8 | honda     | 1       | 2          |\n",
    "| 2020-12-8 | honda     | 2       | 1          |\n",
    "| 2020-12-7 | honda     | 0       | 1          |\n",
    "| 2020-12-7 | honda     | 1       | 2          |\n",
    "| 2020-12-7 | honda     | 2       | 1          |\n",
    "+-----------+-----------+---------+------------+\n",
    "输出：\n",
    "+-----------+-----------+--------------+-----------------+\n",
    "| date_id   | make_name | unique_leads | unique_partners |\n",
    "+-----------+-----------+--------------+-----------------+\n",
    "| 2020-12-8 | toyota    | 2            | 3               |\n",
    "| 2020-12-7 | toyota    | 1            | 2               |\n",
    "| 2020-12-8 | honda     | 2            | 2               |\n",
    "| 2020-12-7 | honda     | 3            | 2               |\n",
    "+-----------+-----------+--------------+-----------------+\n",
    "解释：\n",
    "在 2020-12-8，丰田（toyota）有领导者 = [0, 1] 和合伙人 = [0, 1, 2] ，同时本田（honda）有领导者 = [1, 2] 和合伙人 = [1, 2]。\n",
    "在 2020-12-7，丰田（toyota）有领导者 = [0] 和合伙人 = [1, 2] ，同时本田（honda）有领导者 = [0, 1, 2] 和合伙人 = [1, 2]。"
   ]
  },
  {
   "cell_type": "code",
   "execution_count": 7,
   "id": "ce10adf7-cb47-4065-8b8d-3409a0658479",
   "metadata": {
    "tags": []
   },
   "outputs": [],
   "source": [
    "import pandas as pd\n",
    "\"\"\"\n",
    "思路：以[时间，品牌]分组，分别统计leader和合伙人分别有多少人。\n",
    "Tips: gruopby(), nunique(), reset_index(), rename(, axis)\n",
    "\"\"\"\n",
    "def daily_leads_and_partners(daily_sales: pd.DataFrame) -> pd.DataFrame:\n",
    "    return daily_sales.groupby([\"date_id\", \"make_name\"]).nunique().reset_index().rename({\"lead_id\":\"unique_leads\", \"partner_id\":\"unique_partners\"}, axis=1)"
   ]
  },
  {
   "cell_type": "code",
   "execution_count": 8,
   "id": "195fa563-21f2-49aa-bdf0-6595994d0427",
   "metadata": {},
   "outputs": [
    {
     "data": {
      "text/html": [
       "<div>\n",
       "<style scoped>\n",
       "    .dataframe tbody tr th:only-of-type {\n",
       "        vertical-align: middle;\n",
       "    }\n",
       "\n",
       "    .dataframe tbody tr th {\n",
       "        vertical-align: top;\n",
       "    }\n",
       "\n",
       "    .dataframe thead th {\n",
       "        text-align: right;\n",
       "    }\n",
       "</style>\n",
       "<table border=\"1\" class=\"dataframe\">\n",
       "  <thead>\n",
       "    <tr style=\"text-align: right;\">\n",
       "      <th></th>\n",
       "      <th>date_id</th>\n",
       "      <th>make_name</th>\n",
       "      <th>unique_leads</th>\n",
       "      <th>unique_partners</th>\n",
       "    </tr>\n",
       "  </thead>\n",
       "  <tbody>\n",
       "    <tr>\n",
       "      <th>0</th>\n",
       "      <td>2020-12-07</td>\n",
       "      <td>honda</td>\n",
       "      <td>3</td>\n",
       "      <td>2</td>\n",
       "    </tr>\n",
       "    <tr>\n",
       "      <th>1</th>\n",
       "      <td>2020-12-07</td>\n",
       "      <td>toyota</td>\n",
       "      <td>1</td>\n",
       "      <td>2</td>\n",
       "    </tr>\n",
       "    <tr>\n",
       "      <th>2</th>\n",
       "      <td>2020-12-08</td>\n",
       "      <td>honda</td>\n",
       "      <td>2</td>\n",
       "      <td>2</td>\n",
       "    </tr>\n",
       "    <tr>\n",
       "      <th>3</th>\n",
       "      <td>2020-12-08</td>\n",
       "      <td>toyota</td>\n",
       "      <td>2</td>\n",
       "      <td>3</td>\n",
       "    </tr>\n",
       "  </tbody>\n",
       "</table>\n",
       "</div>"
      ],
      "text/plain": [
       "     date_id make_name  unique_leads  unique_partners\n",
       "0 2020-12-07     honda             3                2\n",
       "1 2020-12-07    toyota             1                2\n",
       "2 2020-12-08     honda             2                2\n",
       "3 2020-12-08    toyota             2                3"
      ]
     },
     "execution_count": 8,
     "metadata": {},
     "output_type": "execute_result"
    }
   ],
   "source": [
    "data = [['2020-12-8', 'toyota', 0, 1], ['2020-12-8', 'toyota', 1, 0], ['2020-12-8', 'toyota', 1, 2], ['2020-12-7', 'toyota', 0, 2], ['2020-12-7', 'toyota', 0, 1], ['2020-12-8', 'honda', 1, 2], ['2020-12-8', 'honda', 2, 1], ['2020-12-7', 'honda', 0, 1], ['2020-12-7', 'honda', 1, 2], ['2020-12-7', 'honda', 2, 1]]\n",
    "daily_sales = pd.DataFrame(data, columns=['date_id', 'make_name', 'lead_id', 'partner_id']).astype({'date_id':'datetime64[ns]', 'make_name':'object', 'lead_id':'Int64', 'partner_id':'Int64'})\n",
    "daily_leads_and_partners(daily_sales)"
   ]
  },
  {
   "cell_type": "code",
   "execution_count": null,
   "id": "3aa829ee-249f-4c39-806a-219d29129f3a",
   "metadata": {},
   "outputs": [],
   "source": []
  }
 ],
 "metadata": {
  "kernelspec": {
   "display_name": "Python 3 (ipykernel)",
   "language": "python",
   "name": "python3"
  },
  "language_info": {
   "codemirror_mode": {
    "name": "ipython",
    "version": 3
   },
   "file_extension": ".py",
   "mimetype": "text/x-python",
   "name": "python",
   "nbconvert_exporter": "python",
   "pygments_lexer": "ipython3",
   "version": "3.10.12"
  }
 },
 "nbformat": 4,
 "nbformat_minor": 5
}
