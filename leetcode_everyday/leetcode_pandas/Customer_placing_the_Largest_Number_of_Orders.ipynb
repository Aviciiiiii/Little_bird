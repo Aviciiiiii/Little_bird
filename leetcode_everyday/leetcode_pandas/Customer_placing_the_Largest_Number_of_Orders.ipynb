{
 "cells": [
  {
   "cell_type": "markdown",
   "id": "f3945d9c-39e8-4b56-b385-a7eac9886613",
   "metadata": {},
   "source": [
    "# 订单最多的客户"
   ]
  },
  {
   "cell_type": "code",
   "execution_count": null,
   "id": "b818ba34-3557-47eb-bb74-c092c9df7051",
   "metadata": {},
   "outputs": [],
   "source": [
    "表: Orders\n",
    "\n",
    "+-----------------+----------+\n",
    "| Column Name     | Type     |\n",
    "+-----------------+----------+\n",
    "| order_number    | int      |\n",
    "| customer_number | int      |\n",
    "+-----------------+----------+\n",
    "在 SQL 中，Order_number是该表的主键。\n",
    "此表包含关于订单ID和客户ID的信息。\n",
    " \n",
    "\n",
    "查找下了 最多订单 的客户的 customer_number 。\n",
    "\n",
    "测试用例生成后， 恰好有一个客户 比任何其他客户下了更多的订单。\n",
    "\n",
    "查询结果格式如下所示。\n",
    "\n",
    " \n",
    "\n",
    "示例 1:\n",
    "\n",
    "输入: \n",
    "Orders 表:\n",
    "+--------------+-----------------+\n",
    "| order_number | customer_number |\n",
    "+--------------+-----------------+\n",
    "| 1            | 1               |\n",
    "| 2            | 2               |\n",
    "| 3            | 3               |\n",
    "| 4            | 3               |\n",
    "+--------------+-----------------+\n",
    "输出: \n",
    "+-----------------+\n",
    "| customer_number |\n",
    "+-----------------+\n",
    "| 3               |\n",
    "+-----------------+\n",
    "解释: \n",
    "customer_number 为 '3' 的顾客有两个订单，比顾客 '1' 或者 '2' 都要多，因为他们只有一个订单。\n",
    "所以结果是该顾客的 customer_number ，也就是 3 。\n",
    " \n",
    "\n",
    "进阶： 如果有多位顾客订单数并列最多，你能找到他们所有的 customer_number 吗？"
   ]
  },
  {
   "cell_type": "code",
   "execution_count": 1,
   "id": "d9e5a56a-1c0c-4b18-adfd-257f23980fdf",
   "metadata": {
    "tags": []
   },
   "outputs": [],
   "source": [
    "import pandas as pd\n",
    "\"\"\"\n",
    "思路：统计每个顾客的下单数，以顾客id排序后取第一个，即订单数最多的客户\n",
    "Tips: groupby(), nunique(), reset_index(), sort_values(by, ascending), head()\n",
    "\"\"\"\n",
    "def largest_orders(orders: pd.DataFrame) -> pd.DataFrame:\n",
    "    \n",
    "    # 统计每个顾客的下单数量\n",
    "    new_df2 = orders.groupby(\"customer_number\")[\"order_number\"].nunique().reset_index(name='count')\n",
    "    \n",
    "    # 排序后取第一行中的顾客ID\n",
    "    return new_df2.sort_values(by=\"count\", ascending=False).head(1)[[\"customer_number\"]]"
   ]
  },
  {
   "cell_type": "code",
   "execution_count": 2,
   "id": "27ac0062-a3b5-4b24-9712-74d781647ebc",
   "metadata": {
    "tags": []
   },
   "outputs": [
    {
     "data": {
      "text/html": [
       "<div>\n",
       "<style scoped>\n",
       "    .dataframe tbody tr th:only-of-type {\n",
       "        vertical-align: middle;\n",
       "    }\n",
       "\n",
       "    .dataframe tbody tr th {\n",
       "        vertical-align: top;\n",
       "    }\n",
       "\n",
       "    .dataframe thead th {\n",
       "        text-align: right;\n",
       "    }\n",
       "</style>\n",
       "<table border=\"1\" class=\"dataframe\">\n",
       "  <thead>\n",
       "    <tr style=\"text-align: right;\">\n",
       "      <th></th>\n",
       "      <th>customer_number</th>\n",
       "    </tr>\n",
       "  </thead>\n",
       "  <tbody>\n",
       "    <tr>\n",
       "      <th>2</th>\n",
       "      <td>3</td>\n",
       "    </tr>\n",
       "  </tbody>\n",
       "</table>\n",
       "</div>"
      ],
      "text/plain": [
       "   customer_number\n",
       "2                3"
      ]
     },
     "execution_count": 2,
     "metadata": {},
     "output_type": "execute_result"
    }
   ],
   "source": [
    "data = [[1, 1], [2, 2], [3, 3], [4, 3]]\n",
    "orders = pd.DataFrame(data, columns=['order_number', 'customer_number']).astype({'order_number':'Int64', 'customer_number':'Int64'})\n",
    "largest_orders(orders)"
   ]
  }
 ],
 "metadata": {
  "kernelspec": {
   "display_name": "Python 3 (ipykernel)",
   "language": "python",
   "name": "python3"
  },
  "language_info": {
   "codemirror_mode": {
    "name": "ipython",
    "version": 3
   },
   "file_extension": ".py",
   "mimetype": "text/x-python",
   "name": "python",
   "nbconvert_exporter": "python",
   "pygments_lexer": "ipython3",
   "version": "3.10.12"
  }
 },
 "nbformat": 4,
 "nbformat_minor": 5
}
