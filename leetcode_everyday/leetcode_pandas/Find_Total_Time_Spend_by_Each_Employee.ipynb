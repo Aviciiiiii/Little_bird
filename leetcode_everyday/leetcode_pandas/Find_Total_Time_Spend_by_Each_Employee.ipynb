{
 "cells": [
  {
   "cell_type": "markdown",
   "id": "9b978479-68f1-499d-b331-622e54f97114",
   "metadata": {},
   "source": [
    "# 查找每个员工花费的总时间"
   ]
  },
  {
   "cell_type": "code",
   "execution_count": null,
   "id": "4324438a-04e4-41de-8412-7d32ba590cc8",
   "metadata": {},
   "outputs": [],
   "source": [
    "表: Employees\n",
    "\n",
    "+-------------+------+\n",
    "| Column Name | Type |\n",
    "+-------------+------+\n",
    "| emp_id      | int  |\n",
    "| event_day   | date |\n",
    "| in_time     | int  |\n",
    "| out_time    | int  |\n",
    "+-------------+------+\n",
    "在 SQL 中，(emp_id, event_day, in_time) 是这个表的主键。\n",
    "该表显示了员工在办公室的出入情况。\n",
    "event_day 是此事件发生的日期，in_time 是员工进入办公室的时间，而 out_time 是他们离开办公室的时间。\n",
    "in_time 和 out_time 的取值在1到1440之间。\n",
    "题目保证同一天没有两个事件在时间上是相交的，并且保证 in_time 小于 out_time。\n",
    " \n",
    "\n",
    "计算每位员工每天在办公室花费的总时间（以分钟为单位）。 请注意，在一天之内，同一员工是可以多次进入和离开办公室的。 在办公室里一次进出所花费的时间为out_time 减去 in_time。\n",
    "\n",
    "返回结果表单的顺序无要求。\n",
    "查询结果的格式如下：\n",
    "\n",
    " \n",
    "\n",
    "示例 1：\n",
    "\n",
    "输入：\n",
    "Employees table:\n",
    "+--------+------------+---------+----------+\n",
    "| emp_id | event_day  | in_time | out_time |\n",
    "+--------+------------+---------+----------+\n",
    "| 1      | 2020-11-28 | 4       | 32       |\n",
    "| 1      | 2020-11-28 | 55      | 200      |\n",
    "| 1      | 2020-12-03 | 1       | 42       |\n",
    "| 2      | 2020-11-28 | 3       | 33       |\n",
    "| 2      | 2020-12-09 | 47      | 74       |\n",
    "+--------+------------+---------+----------+\n",
    "输出：\n",
    "+------------+--------+------------+\n",
    "| day        | emp_id | total_time |\n",
    "+------------+--------+------------+\n",
    "| 2020-11-28 | 1      | 173        |\n",
    "| 2020-11-28 | 2      | 30         |\n",
    "| 2020-12-03 | 1      | 41         |\n",
    "| 2020-12-09 | 2      | 27         |\n",
    "+------------+--------+------------+\n",
    "解释：\n",
    "雇员 1 有三次进出: 有两次发生在 2020-11-28 花费的时间为 (32 - 4) + (200 - 55) = 173, 有一次发生在 2020-12-03 花费的时间为 (42 - 1) = 41。\n",
    "雇员 2 有两次进出: 有一次发生在 2020-11-28 花费的时间为 (33 - 3) = 30,  有一次发生在 2020-12-09 花费的时间为 (74 - 47) = 27。"
   ]
  },
  {
   "cell_type": "code",
   "execution_count": 1,
   "id": "f1f205be-9dad-4c79-9755-8e5a96233ebe",
   "metadata": {
    "tags": []
   },
   "outputs": [],
   "source": [
    "import pandas as pd\n",
    "\"\"\"\n",
    "思路：利用\"out_time\" - \"in_time\".sum()来计算每组的花费时间，再对员工ID、日期进行分组以放置每组花费时间。\n",
    "Tips: groupby(by=), sum(), reset_index(),rename( , axis, inplace)\n",
    "\"\"\"\n",
    "def total_time(employees: pd.DataFrame) -> pd.DataFrame:\n",
    "    employees['total_time'] = employees['out_time'] - employees['in_time']\n",
    "    new_df = employees.groupby([\"event_day\", \"emp_id\"])[\"total_time\"].sum().reset_index()\n",
    "    new_df.rename({'event_day':'day'}, axis=1, inplace=True)\n",
    "    return new_df"
   ]
  },
  {
   "cell_type": "code",
   "execution_count": 2,
   "id": "01d3ae50-eef0-416b-b94b-77031194ae69",
   "metadata": {
    "tags": []
   },
   "outputs": [
    {
     "data": {
      "text/html": [
       "<div>\n",
       "<style scoped>\n",
       "    .dataframe tbody tr th:only-of-type {\n",
       "        vertical-align: middle;\n",
       "    }\n",
       "\n",
       "    .dataframe tbody tr th {\n",
       "        vertical-align: top;\n",
       "    }\n",
       "\n",
       "    .dataframe thead th {\n",
       "        text-align: right;\n",
       "    }\n",
       "</style>\n",
       "<table border=\"1\" class=\"dataframe\">\n",
       "  <thead>\n",
       "    <tr style=\"text-align: right;\">\n",
       "      <th></th>\n",
       "      <th>day</th>\n",
       "      <th>emp_id</th>\n",
       "      <th>total_time</th>\n",
       "    </tr>\n",
       "  </thead>\n",
       "  <tbody>\n",
       "    <tr>\n",
       "      <th>0</th>\n",
       "      <td>2020-11-28</td>\n",
       "      <td>1</td>\n",
       "      <td>173</td>\n",
       "    </tr>\n",
       "    <tr>\n",
       "      <th>1</th>\n",
       "      <td>2020-11-28</td>\n",
       "      <td>2</td>\n",
       "      <td>30</td>\n",
       "    </tr>\n",
       "    <tr>\n",
       "      <th>2</th>\n",
       "      <td>2020-12-03</td>\n",
       "      <td>1</td>\n",
       "      <td>41</td>\n",
       "    </tr>\n",
       "    <tr>\n",
       "      <th>3</th>\n",
       "      <td>2020-12-09</td>\n",
       "      <td>2</td>\n",
       "      <td>27</td>\n",
       "    </tr>\n",
       "  </tbody>\n",
       "</table>\n",
       "</div>"
      ],
      "text/plain": [
       "         day  emp_id  total_time\n",
       "0 2020-11-28       1         173\n",
       "1 2020-11-28       2          30\n",
       "2 2020-12-03       1          41\n",
       "3 2020-12-09       2          27"
      ]
     },
     "execution_count": 2,
     "metadata": {},
     "output_type": "execute_result"
    }
   ],
   "source": [
    "data = [['1', '2020-11-28', '4', '32'], ['1', '2020-11-28', '55', '200'], ['1', '2020-12-3', '1', '42'], ['2', '2020-11-28', '3', '33'], ['2', '2020-12-9', '47', '74']]\n",
    "employees = pd.DataFrame(data, columns=['emp_id', 'event_day', 'in_time', 'out_time']).astype({'emp_id':'Int64', 'event_day':'datetime64[ns]', 'in_time':'Int64', 'out_time':'Int64'})\n",
    "total_time(employees)"
   ]
  },
  {
   "cell_type": "code",
   "execution_count": null,
   "id": "0b4bb4fa-f637-4384-8047-268536194507",
   "metadata": {},
   "outputs": [],
   "source": []
  }
 ],
 "metadata": {
  "kernelspec": {
   "display_name": "Python 3 (ipykernel)",
   "language": "python",
   "name": "python3"
  },
  "language_info": {
   "codemirror_mode": {
    "name": "ipython",
    "version": 3
   },
   "file_extension": ".py",
   "mimetype": "text/x-python",
   "name": "python",
   "nbconvert_exporter": "python",
   "pygments_lexer": "ipython3",
   "version": "3.10.12"
  }
 },
 "nbformat": 4,
 "nbformat_minor": 5
}
