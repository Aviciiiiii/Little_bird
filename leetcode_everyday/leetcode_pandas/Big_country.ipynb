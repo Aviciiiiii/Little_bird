{
 "cells": [
  {
   "cell_type": "markdown",
   "id": "2ec0146d-e4f9-4e41-badf-78b9504d9842",
   "metadata": {},
   "source": [
    "# 大的国家"
   ]
  },
  {
   "cell_type": "code",
   "execution_count": null,
   "id": "8e400ed3-6344-4ab9-b99e-c4b2452bc7fd",
   "metadata": {
    "tags": []
   },
   "outputs": [],
   "source": [
    "World 表：\n",
    "\n",
    "+-------------+---------+\n",
    "| Column Name | Type    |\n",
    "+-------------+---------+\n",
    "| name        | varchar |\n",
    "| continent   | varchar |\n",
    "| area        | int     |\n",
    "| population  | int     |\n",
    "| gdp         | bigint  |\n",
    "+-------------+---------+\n",
    "name 是该表的主键（具有唯一值的列）。\n",
    "这张表的每一行提供：国家名称、所属大陆、面积、人口和 GDP 值。\n",
    " \n",
    "\n",
    "如果一个国家满足下述两个条件之一，则认为该国是 大国 ：\n",
    "\n",
    "面积至少为 300 万平方公里（即，3000000 km2），或者\n",
    "人口至少为 2500 万（即 25000000）\n",
    "编写解决方案找出 大国 的国家名称、人口和面积。\n",
    "\n",
    "按 任意顺序 返回结果表。\n",
    "\n",
    "返回结果格式如下例所示。\n",
    "\n",
    " \n",
    "\n",
    "示例：\n",
    "\n",
    "输入：\n",
    "World 表：\n",
    "+-------------+-----------+---------+------------+--------------+\n",
    "| name        | continent | area    | population | gdp          |\n",
    "+-------------+-----------+---------+------------+--------------+\n",
    "| Afghanistan | Asia      | 652230  | 25500100   | 20343000000  |\n",
    "| Albania     | Europe    | 28748   | 2831741    | 12960000000  |\n",
    "| Algeria     | Africa    | 2381741 | 37100000   | 188681000000 |\n",
    "| Andorra     | Europe    | 468     | 78115      | 3712000000   |\n",
    "| Angola      | Africa    | 1246700 | 20609294   | 100990000000 |\n",
    "+-------------+-----------+---------+------------+--------------+\n",
    "输出：\n",
    "+-------------+------------+---------+\n",
    "| name        | population | area    |\n",
    "+-------------+------------+---------+\n",
    "| Afghanistan | 25500100   | 652230  |\n",
    "| Algeria     | 37100000   | 2381741 |\n",
    "+-------------+------------+---------+"
   ]
  },
  {
   "cell_type": "code",
   "execution_count": 4,
   "id": "f683acd0-c0a0-4143-944c-ee5e34b080b8",
   "metadata": {
    "tags": []
   },
   "outputs": [],
   "source": [
    "import pandas as pd\n",
    "\"\"\"\n",
    "思路：对题设两个条件取并集，注意 每个条件要用()包括起来\n",
    "\n",
    "Tips: |并，&交\n",
    "\"\"\"\n",
    "\n",
    "def big_countries(world: pd.DataFrame) -> pd.DataFrame:\n",
    "    # 利用条件提取目标行\n",
    "    aim = world[(world['area'] >= 3000000) | (world['population'] >= 25000000)]\n",
    "    return aim[['name', 'population', 'area']]"
   ]
  },
  {
   "cell_type": "code",
   "execution_count": 3,
   "id": "5dec52d3-aadd-4eab-b24a-2d1c9df7b742",
   "metadata": {
    "tags": []
   },
   "outputs": [
    {
     "data": {
      "text/html": [
       "<div>\n",
       "<style scoped>\n",
       "    .dataframe tbody tr th:only-of-type {\n",
       "        vertical-align: middle;\n",
       "    }\n",
       "\n",
       "    .dataframe tbody tr th {\n",
       "        vertical-align: top;\n",
       "    }\n",
       "\n",
       "    .dataframe thead th {\n",
       "        text-align: right;\n",
       "    }\n",
       "</style>\n",
       "<table border=\"1\" class=\"dataframe\">\n",
       "  <thead>\n",
       "    <tr style=\"text-align: right;\">\n",
       "      <th></th>\n",
       "      <th>name</th>\n",
       "      <th>population</th>\n",
       "      <th>area</th>\n",
       "    </tr>\n",
       "  </thead>\n",
       "  <tbody>\n",
       "    <tr>\n",
       "      <th>0</th>\n",
       "      <td>Afghanistan</td>\n",
       "      <td>25500100</td>\n",
       "      <td>652230</td>\n",
       "    </tr>\n",
       "    <tr>\n",
       "      <th>2</th>\n",
       "      <td>Algeria</td>\n",
       "      <td>37100000</td>\n",
       "      <td>2381741</td>\n",
       "    </tr>\n",
       "  </tbody>\n",
       "</table>\n",
       "</div>"
      ],
      "text/plain": [
       "          name  population     area\n",
       "0  Afghanistan    25500100   652230\n",
       "2      Algeria    37100000  2381741"
      ]
     },
     "execution_count": 3,
     "metadata": {},
     "output_type": "execute_result"
    }
   ],
   "source": [
    "data = [['Afghanistan', 'Asia', 652230, 25500100, 20343000000], ['Albania', 'Europe', 28748, 2831741, 12960000000], ['Algeria', 'Africa', 2381741, 37100000, 188681000000], ['Andorra', 'Europe', 468, 78115, 3712000000], ['Angola', 'Africa', 1246700, 20609294, 100990000000]]\n",
    "world = pd.DataFrame(data, columns=['name', 'continent', 'area', 'population', 'gdp']).astype({'name':'object', 'continent':'object', 'area':'Int64', 'population':'Int64', 'gdp':'Int64'})\n",
    "big_countries(world)"
   ]
  },
  {
   "cell_type": "code",
   "execution_count": null,
   "id": "86677b2e-4d54-4b6d-83cf-84e1982e8ad2",
   "metadata": {},
   "outputs": [],
   "source": []
  }
 ],
 "metadata": {
  "kernelspec": {
   "display_name": "Python 3 (ipykernel)",
   "language": "python",
   "name": "python3"
  },
  "language_info": {
   "codemirror_mode": {
    "name": "ipython",
    "version": 3
   },
   "file_extension": ".py",
   "mimetype": "text/x-python",
   "name": "python",
   "nbconvert_exporter": "python",
   "pygments_lexer": "ipython3",
   "version": "3.10.12"
  }
 },
 "nbformat": 4,
 "nbformat_minor": 5
}
