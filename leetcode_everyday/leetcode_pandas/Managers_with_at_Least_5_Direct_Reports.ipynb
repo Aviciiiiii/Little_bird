{
 "cells": [
  {
   "cell_type": "markdown",
   "id": "bcecdcf5-0321-4693-ba9e-3a241cb5c0c5",
   "metadata": {},
   "source": [
    "# 至少有5名直接下属的经理"
   ]
  },
  {
   "cell_type": "code",
   "execution_count": null,
   "id": "3cf790a0-04e6-4cb7-a4cc-63dce2bdcec9",
   "metadata": {},
   "outputs": [],
   "source": [
    "表: Employee\n",
    "\n",
    "+-------------+---------+\n",
    "| Column Name | Type    |\n",
    "+-------------+---------+\n",
    "| id          | int     |\n",
    "| name        | varchar |\n",
    "| department  | varchar |\n",
    "| managerId   | int     |\n",
    "+-------------+---------+\n",
    "在 SQL 中，id 是该表的主键列。\n",
    "该表的每一行都表示雇员的名字、他们的部门和他们的经理的id。\n",
    "如果managerId为空，则该员工没有经理。\n",
    "没有员工会成为自己的管理者。\n",
    " \n",
    "\n",
    "查询至少有5名直接下属的经理 。\n",
    "\n",
    "以 任意顺序 返回结果表。\n",
    "\n",
    "查询结果格式如下所示。\n",
    "\n",
    " \n",
    "\n",
    "示例 1:\n",
    "\n",
    "输入: \n",
    "Employee 表:\n",
    "+-----+-------+------------+-----------+\n",
    "| id  | name  | department | managerId |\n",
    "+-----+-------+------------+-----------+\n",
    "| 101 | John  | A          | None      |\n",
    "| 102 | Dan   | A          | 101       |\n",
    "| 103 | James | A          | 101       |\n",
    "| 104 | Amy   | A          | 101       |\n",
    "| 105 | Anne  | A          | 101       |\n",
    "| 106 | Ron   | B          | 101       |\n",
    "+-----+-------+------------+-----------+\n",
    "输出: \n",
    "+------+\n",
    "| name |\n",
    "+------+\n",
    "| John |\n",
    "+------+"
   ]
  },
  {
   "cell_type": "code",
   "execution_count": 1,
   "id": "932d90c7-9f98-485e-8f71-76e75e8499e0",
   "metadata": {
    "tags": []
   },
   "outputs": [],
   "source": [
    "import pandas as pd\n",
    "\"\"\"\n",
    "思路：先通过对管理人员分组统计每个管理下面有多少名员工，后将统计数量合并到员工表 得到每个员工下属数量\n",
    "Tips: groupby(), count(), rest_index(), merge(), drop(, axis), rename(, axis)\n",
    "\"\"\"\n",
    "def find_managers(employee: pd.DataFrame) -> pd.DataFrame:\n",
    "    # 统计每个人的下属数量\n",
    "    each_underling_num = employee.groupby(\"managerId\")[\"name\"].count().reset_index()\n",
    "\n",
    "    # 将下属数量合并到员工表\n",
    "    employee_with_underling = employee.merge(each_underling_num, left_on=\"id\", right_on=\"managerId\", how=\"left\").drop(\"managerId_y\", axis=1)\n",
    "\n",
    "    # 输出下属数量大于5的经理\n",
    "    return employee_with_underling[employee_with_underling[\"name_y\"] >= 5][[\"name_x\"]].rename({\"name_x\":\"name\"}, axis=1)\n"
   ]
  },
  {
   "cell_type": "code",
   "execution_count": 2,
   "id": "06b0052d-f9ac-4ec9-a862-886bd100d623",
   "metadata": {
    "tags": []
   },
   "outputs": [
    {
     "data": {
      "text/html": [
       "<div>\n",
       "<style scoped>\n",
       "    .dataframe tbody tr th:only-of-type {\n",
       "        vertical-align: middle;\n",
       "    }\n",
       "\n",
       "    .dataframe tbody tr th {\n",
       "        vertical-align: top;\n",
       "    }\n",
       "\n",
       "    .dataframe thead th {\n",
       "        text-align: right;\n",
       "    }\n",
       "</style>\n",
       "<table border=\"1\" class=\"dataframe\">\n",
       "  <thead>\n",
       "    <tr style=\"text-align: right;\">\n",
       "      <th></th>\n",
       "      <th>name</th>\n",
       "    </tr>\n",
       "  </thead>\n",
       "  <tbody>\n",
       "    <tr>\n",
       "      <th>0</th>\n",
       "      <td>John</td>\n",
       "    </tr>\n",
       "  </tbody>\n",
       "</table>\n",
       "</div>"
      ],
      "text/plain": [
       "   name\n",
       "0  John"
      ]
     },
     "execution_count": 2,
     "metadata": {},
     "output_type": "execute_result"
    }
   ],
   "source": [
    "data = [[101, 'John', 'A', None], [102, 'Dan', 'A', 101], [103, 'James', 'A', 101], [104, 'Amy', 'A', 101], [105, 'Anne', 'A', 101], [106, 'Ron', 'B', 101]]\n",
    "employee = pd.DataFrame(data, columns=['id', 'name', 'department', 'managerId']).astype({'id':'Int64', 'name':'object', 'department':'object', 'managerId':'Int64'})\n",
    "find_managers(employee)"
   ]
  },
  {
   "cell_type": "code",
   "execution_count": null,
   "id": "b7369bea-e13d-47ff-9439-a54679baf4fa",
   "metadata": {},
   "outputs": [],
   "source": []
  }
 ],
 "metadata": {
  "kernelspec": {
   "display_name": "Python 3 (ipykernel)",
   "language": "python",
   "name": "python3"
  },
  "language_info": {
   "codemirror_mode": {
    "name": "ipython",
    "version": 3
   },
   "file_extension": ".py",
   "mimetype": "text/x-python",
   "name": "python",
   "nbconvert_exporter": "python",
   "pygments_lexer": "ipython3",
   "version": "3.10.12"
  }
 },
 "nbformat": 4,
 "nbformat_minor": 5
}
