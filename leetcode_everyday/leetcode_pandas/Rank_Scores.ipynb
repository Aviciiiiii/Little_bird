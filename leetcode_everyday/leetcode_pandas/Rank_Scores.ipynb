{
 "cells": [
  {
   "cell_type": "markdown",
   "id": "f5ec26d4-b796-4835-9522-014ea1ed7288",
   "metadata": {},
   "source": [
    "# 分数排名"
   ]
  },
  {
   "cell_type": "code",
   "execution_count": null,
   "id": "02c78620-83d4-479c-a699-f9e5d1f78508",
   "metadata": {},
   "outputs": [],
   "source": [
    "表: Scores\n",
    "\n",
    "+-------------+---------+\n",
    "| Column Name | Type    |\n",
    "+-------------+---------+\n",
    "| id          | int     |\n",
    "| score       | decimal |\n",
    "+-------------+---------+\n",
    "在 SQL 中，id 是该表的主键。\n",
    "该表的每一行都包含了一场比赛的分数。Score 是一个有两位小数点的浮点值。\n",
    " \n",
    "\n",
    "查询并对分数进行排序。排名按以下规则计算:\n",
    "\n",
    "分数应按从高到低排列。\n",
    "如果两个分数相等，那么两个分数的排名应该相同。\n",
    "在排名相同的分数后，排名数应该是下一个连续的整数。换句话说，排名之间不应该有空缺的数字。\n",
    "按 score 降序返回结果表。\n",
    "\n",
    "查询结果格式如下所示。\n",
    "\n",
    " \n",
    "\n",
    "示例 1:\n",
    "\n",
    "输入: \n",
    "Scores 表:\n",
    "+----+-------+\n",
    "| id | score |\n",
    "+----+-------+\n",
    "| 1  | 3.50  |\n",
    "| 2  | 3.65  |\n",
    "| 3  | 4.00  |\n",
    "| 4  | 3.85  |\n",
    "| 5  | 4.00  |\n",
    "| 6  | 3.65  |\n",
    "+----+-------+\n",
    "输出: \n",
    "+-------+------+\n",
    "| score | rank |\n",
    "+-------+------+\n",
    "| 4.00  | 1    |\n",
    "| 4.00  | 1    |\n",
    "| 3.85  | 2    |\n",
    "| 3.65  | 3    |\n",
    "| 3.65  | 3    |\n",
    "| 3.50  | 4    |\n",
    "+-------+------+"
   ]
  },
  {
   "cell_type": "code",
   "execution_count": 2,
   "id": "b171ebec-3063-48b6-a4a3-138d434bd7fc",
   "metadata": {},
   "outputs": [],
   "source": [
    "import pandas as pd\n",
    "\"\"\"\n",
    "思路：需要对表格进行排序with sort_values(by, ascending, inplace)，后对排序后的分数进行排序with rank(method, ascending)，后返回目标列\n",
    "Tips: sort_values(by, scending, inplace), rank(method, ascending), astype()\n",
    "\"\"\"\n",
    "def order_scores(scores: pd.DataFrame) -> pd.DataFrame:\n",
    "\n",
    "    # 得到使用score排序后的分数表with sort_values(by)\n",
    "    scores.sort_values(by='score', ascending=False, inplace=True)\n",
    "\n",
    "    # 使用rank(method, ascending)方法添加分数排名列, \"method = 'dense'\"意思是当存在并列的值时，下一个排名+1 不跳过\n",
    "    scores['rank'] = scores['score'].rank(method = 'dense', ascending=False).astype(int)\n",
    "\n",
    "    return scores[['score', 'rank']]"
   ]
  },
  {
   "cell_type": "code",
   "execution_count": 3,
   "id": "256518d6-8291-486a-8824-b4a08e8975f0",
   "metadata": {},
   "outputs": [
    {
     "data": {
      "text/html": [
       "<div>\n",
       "<style scoped>\n",
       "    .dataframe tbody tr th:only-of-type {\n",
       "        vertical-align: middle;\n",
       "    }\n",
       "\n",
       "    .dataframe tbody tr th {\n",
       "        vertical-align: top;\n",
       "    }\n",
       "\n",
       "    .dataframe thead th {\n",
       "        text-align: right;\n",
       "    }\n",
       "</style>\n",
       "<table border=\"1\" class=\"dataframe\">\n",
       "  <thead>\n",
       "    <tr style=\"text-align: right;\">\n",
       "      <th></th>\n",
       "      <th>score</th>\n",
       "      <th>rank</th>\n",
       "    </tr>\n",
       "  </thead>\n",
       "  <tbody>\n",
       "    <tr>\n",
       "      <th>2</th>\n",
       "      <td>4.0</td>\n",
       "      <td>1</td>\n",
       "    </tr>\n",
       "    <tr>\n",
       "      <th>4</th>\n",
       "      <td>4.0</td>\n",
       "      <td>1</td>\n",
       "    </tr>\n",
       "    <tr>\n",
       "      <th>3</th>\n",
       "      <td>3.85</td>\n",
       "      <td>2</td>\n",
       "    </tr>\n",
       "    <tr>\n",
       "      <th>1</th>\n",
       "      <td>3.65</td>\n",
       "      <td>3</td>\n",
       "    </tr>\n",
       "    <tr>\n",
       "      <th>5</th>\n",
       "      <td>3.65</td>\n",
       "      <td>3</td>\n",
       "    </tr>\n",
       "    <tr>\n",
       "      <th>0</th>\n",
       "      <td>3.5</td>\n",
       "      <td>4</td>\n",
       "    </tr>\n",
       "  </tbody>\n",
       "</table>\n",
       "</div>"
      ],
      "text/plain": [
       "   score  rank\n",
       "2    4.0     1\n",
       "4    4.0     1\n",
       "3   3.85     2\n",
       "1   3.65     3\n",
       "5   3.65     3\n",
       "0    3.5     4"
      ]
     },
     "execution_count": 3,
     "metadata": {},
     "output_type": "execute_result"
    }
   ],
   "source": [
    "data = [[1, 3.5], [2, 3.65], [3, 4.0], [4, 3.85], [5, 4.0], [6, 3.65]]\n",
    "scores = pd.DataFrame(data, columns=['id', 'score']).astype({'id':'Int64', 'score':'Float64'})\n",
    "order_scores(scores)"
   ]
  },
  {
   "cell_type": "code",
   "execution_count": null,
   "id": "7bcff34c-726e-47b0-b8c3-6e8055018fb1",
   "metadata": {},
   "outputs": [],
   "source": []
  }
 ],
 "metadata": {
  "kernelspec": {
   "display_name": "Python 3 (ipykernel)",
   "language": "python",
   "name": "python3"
  },
  "language_info": {
   "codemirror_mode": {
    "name": "ipython",
    "version": 3
   },
   "file_extension": ".py",
   "mimetype": "text/x-python",
   "name": "python",
   "nbconvert_exporter": "python",
   "pygments_lexer": "ipython3",
   "version": "3.10.12"
  }
 },
 "nbformat": 4,
 "nbformat_minor": 5
}
