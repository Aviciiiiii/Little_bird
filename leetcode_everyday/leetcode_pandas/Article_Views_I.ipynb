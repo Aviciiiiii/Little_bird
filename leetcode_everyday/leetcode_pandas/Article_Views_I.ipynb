{
 "cells": [
  {
   "cell_type": "markdown",
   "id": "c6c61577-50a4-4ff6-aa6d-e6f56eb0cc94",
   "metadata": {},
   "source": [
    "# 文章浏览"
   ]
  },
  {
   "cell_type": "code",
   "execution_count": null,
   "id": "4a0613dc-0cb9-436b-b206-5c009a9abaf4",
   "metadata": {},
   "outputs": [],
   "source": [
    "Views 表：\n",
    "\n",
    "+---------------+---------+\n",
    "| Column Name   | Type    |\n",
    "+---------------+---------+\n",
    "| article_id    | int     |\n",
    "| author_id     | int     |\n",
    "| viewer_id     | int     |\n",
    "| view_date     | date    |\n",
    "+---------------+---------+\n",
    "此表可能会存在重复行。（换句话说，在 SQL 中这个表没有主键）\n",
    "此表的每一行都表示某人在某天浏览了某位作者的某篇文章。\n",
    "请注意，同一人的 author_id 和 viewer_id 是相同的。\n",
    " \n",
    "\n",
    "请查询出所有浏览过自己文章的作者\n",
    "\n",
    "结果按照 id 升序排列。\n",
    "\n",
    "查询结果的格式如下所示：\n",
    "\n",
    " \n",
    "\n",
    "示例 1：\n",
    "\n",
    "输入：\n",
    "Views 表：\n",
    "+------------+-----------+-----------+------------+\n",
    "| article_id | author_id | viewer_id | view_date  |\n",
    "+------------+-----------+-----------+------------+\n",
    "| 1          | 3         | 5         | 2019-08-01 |\n",
    "| 1          | 3         | 6         | 2019-08-02 |\n",
    "| 2          | 7         | 7         | 2019-08-01 |\n",
    "| 2          | 7         | 6         | 2019-08-02 |\n",
    "| 4          | 7         | 1         | 2019-07-22 |\n",
    "| 3          | 4         | 4         | 2019-07-21 |\n",
    "| 3          | 4         | 4         | 2019-07-21 |\n",
    "+------------+-----------+-----------+------------+\n",
    "\n",
    "输出：\n",
    "+------+\n",
    "| id   |\n",
    "+------+\n",
    "| 4    |\n",
    "| 7    |\n",
    "+------+"
   ]
  },
  {
   "cell_type": "code",
   "execution_count": 1,
   "id": "90fd02fa-6683-49a1-be23-b28942566499",
   "metadata": {},
   "outputs": [],
   "source": [
    "import pandas as pd\n",
    "\"\"\"\n",
    "思路：利用\"author_id\" == \"viewer_id\"条件来查询相应行\n",
    "Tips: (<conditions>), sort_values(by=), [[]], rename(columns=), drop_duplicates(), reset_index(drop=) \n",
    "\"\"\"\n",
    "def article_views(views: pd.DataFrame) -> pd.DataFrame:\n",
    "    return views[(views['author_id'] == views['viewer_id'])].sort_values(by='author_id')[['author_id']].rename(columns={'author_id':'id'}).drop_duplicates().reset_index(drop=True)"
   ]
  },
  {
   "cell_type": "code",
   "execution_count": 2,
   "id": "cdac7f6e-5271-4fbd-9cec-b317bf3e5e4b",
   "metadata": {},
   "outputs": [
    {
     "data": {
      "text/html": [
       "<div>\n",
       "<style scoped>\n",
       "    .dataframe tbody tr th:only-of-type {\n",
       "        vertical-align: middle;\n",
       "    }\n",
       "\n",
       "    .dataframe tbody tr th {\n",
       "        vertical-align: top;\n",
       "    }\n",
       "\n",
       "    .dataframe thead th {\n",
       "        text-align: right;\n",
       "    }\n",
       "</style>\n",
       "<table border=\"1\" class=\"dataframe\">\n",
       "  <thead>\n",
       "    <tr style=\"text-align: right;\">\n",
       "      <th></th>\n",
       "      <th>id</th>\n",
       "    </tr>\n",
       "  </thead>\n",
       "  <tbody>\n",
       "    <tr>\n",
       "      <th>0</th>\n",
       "      <td>4</td>\n",
       "    </tr>\n",
       "    <tr>\n",
       "      <th>1</th>\n",
       "      <td>7</td>\n",
       "    </tr>\n",
       "  </tbody>\n",
       "</table>\n",
       "</div>"
      ],
      "text/plain": [
       "   id\n",
       "0   4\n",
       "1   7"
      ]
     },
     "execution_count": 2,
     "metadata": {},
     "output_type": "execute_result"
    }
   ],
   "source": [
    "data = [[1, 3, 5, '2019-08-01'], [1, 3, 6, '2019-08-02'], [2, 7, 7, '2019-08-01'], [2, 7, 6, '2019-08-02'], [4, 7, 1, '2019-07-22'], [3, 4, 4, '2019-07-21'], [3, 4, 4, '2019-07-21']]\n",
    "views = pd.DataFrame(data, columns=['article_id', 'author_id', 'viewer_id', 'view_date']).astype({'article_id':'Int64', 'author_id':'Int64', 'viewer_id':'Int64', 'view_date':'datetime64[ns]'})\n",
    "article_views(views)"
   ]
  },
  {
   "cell_type": "code",
   "execution_count": null,
   "id": "4d052bc7-f768-4a02-a7db-2cc115a0d3a8",
   "metadata": {},
   "outputs": [],
   "source": []
  }
 ],
 "metadata": {
  "kernelspec": {
   "display_name": "Python 3 (ipykernel)",
   "language": "python",
   "name": "python3"
  },
  "language_info": {
   "codemirror_mode": {
    "name": "ipython",
    "version": 3
   },
   "file_extension": ".py",
   "mimetype": "text/x-python",
   "name": "python",
   "nbconvert_exporter": "python",
   "pygments_lexer": "ipython3",
   "version": "3.9.0"
  }
 },
 "nbformat": 4,
 "nbformat_minor": 5
}
