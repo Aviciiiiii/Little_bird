{
 "cells": [
  {
   "cell_type": "markdown",
   "id": "c5ab6148-f079-4907-802f-28fb802cb516",
   "metadata": {},
   "source": [
    "# 按日期分组销售产品"
   ]
  },
  {
   "cell_type": "code",
   "execution_count": null,
   "id": "d3f242db-13f5-4c61-9508-050c662a7268",
   "metadata": {},
   "outputs": [],
   "source": [
    "表 Activities：\n",
    "\n",
    "+-------------+---------+\n",
    "| 列名         | 类型    |\n",
    "+-------------+---------+\n",
    "| sell_date   | date    |\n",
    "| product     | varchar |\n",
    "+-------------+---------+\n",
    "该表没有主键(具有唯一值的列)。它可能包含重复项。\n",
    "此表的每一行都包含产品名称和在市场上销售的日期。\n",
    " \n",
    "\n",
    "编写解决方案找出每个日期、销售的不同产品的数量及其名称。\n",
    "每个日期的销售产品名称应按词典序排列。\n",
    "返回按 sell_date 排序的结果表。\n",
    "结果表结果格式如下例所示。\n",
    "\n",
    " \n",
    "\n",
    "示例 1:\n",
    "\n",
    "输入：\n",
    "Activities 表：\n",
    "+------------+-------------+\n",
    "| sell_date  | product     |\n",
    "+------------+-------------+\n",
    "| 2020-05-30 | Headphone   |\n",
    "| 2020-06-01 | Pencil      |\n",
    "| 2020-06-02 | Mask        |\n",
    "| 2020-05-30 | Basketball  |\n",
    "| 2020-06-01 | Bible       |\n",
    "| 2020-06-02 | Mask        |\n",
    "| 2020-05-30 | T-Shirt     |\n",
    "+------------+-------------+\n",
    "输出：\n",
    "+------------+----------+------------------------------+\n",
    "| sell_date  | num_sold | products                     |\n",
    "+------------+----------+------------------------------+\n",
    "| 2020-05-30 | 3        | Basketball,Headphone,T-shirt |\n",
    "| 2020-06-01 | 2        | Bible,Pencil                 |\n",
    "| 2020-06-02 | 1        | Mask                         |\n",
    "+------------+----------+------------------------------+\n",
    "解释：\n",
    "对于2020-05-30，出售的物品是 (Headphone, Basketball, T-shirt)，按词典序排列，并用逗号 ',' 分隔。\n",
    "对于2020-06-01，出售的物品是 (Pencil, Bible)，按词典序排列，并用逗号分隔。\n",
    "对于2020-06-02，出售的物品是 (Mask)，只需返回该物品名。"
   ]
  },
  {
   "cell_type": "code",
   "execution_count": 20,
   "id": "815ec207-73e9-4e52-abe3-0b174c35927a",
   "metadata": {
    "tags": []
   },
   "outputs": [],
   "source": [
    "import pandas as pd\n",
    "\"\"\"\n",
    "思路：对日期分组之后，将products内商品提取后 用\",\"连接后存入新表，用新列存储products中存的数量\n",
    "Tips:groupby(), agg():使用lambda对数据进行聚合操作, reset_index(), set(), apply(), rename()\n",
    "\"\"\"\n",
    "def categorize_products(activities: pd.DataFrame) -> pd.DataFrame:\n",
    "    \n",
    "    # 提取同一日期下的不同商品\n",
    "    new_df3 = activities.groupby(\"sell_date\")[\"product\"].agg(lambda x: \",\".join(sorted(set(x)))).reset_index()\n",
    "    \n",
    "    # 统计同一日期下的不同商品的数量\n",
    "    new_df3[\"num_sold\"] = new_df3[\"product\"].apply(lambda x: len(x.split(\",\")))\n",
    "    \n",
    "    # 更换名称\n",
    "    new_df3 = new_df3[['sell_date', 'num_sold', 'product']].rename({\"product\": \"products\"}, axis=1)\n",
    "    return new_df3\n",
    "    # 细节：agg()、sorted()、set()"
   ]
  },
  {
   "cell_type": "code",
   "execution_count": 21,
   "id": "509b73b2-82e4-4f08-bf42-7fc2086fb58a",
   "metadata": {
    "tags": []
   },
   "outputs": [
    {
     "data": {
      "text/html": [
       "<div>\n",
       "<style scoped>\n",
       "    .dataframe tbody tr th:only-of-type {\n",
       "        vertical-align: middle;\n",
       "    }\n",
       "\n",
       "    .dataframe tbody tr th {\n",
       "        vertical-align: top;\n",
       "    }\n",
       "\n",
       "    .dataframe thead th {\n",
       "        text-align: right;\n",
       "    }\n",
       "</style>\n",
       "<table border=\"1\" class=\"dataframe\">\n",
       "  <thead>\n",
       "    <tr style=\"text-align: right;\">\n",
       "      <th></th>\n",
       "      <th>sell_date</th>\n",
       "      <th>num_sold</th>\n",
       "      <th>products</th>\n",
       "    </tr>\n",
       "  </thead>\n",
       "  <tbody>\n",
       "    <tr>\n",
       "      <th>0</th>\n",
       "      <td>2020-05-30</td>\n",
       "      <td>3</td>\n",
       "      <td>Basketball,Headphone,T-Shirt</td>\n",
       "    </tr>\n",
       "    <tr>\n",
       "      <th>1</th>\n",
       "      <td>2020-06-01</td>\n",
       "      <td>2</td>\n",
       "      <td>Bible,Pencil</td>\n",
       "    </tr>\n",
       "    <tr>\n",
       "      <th>2</th>\n",
       "      <td>2020-06-02</td>\n",
       "      <td>1</td>\n",
       "      <td>Mask</td>\n",
       "    </tr>\n",
       "  </tbody>\n",
       "</table>\n",
       "</div>"
      ],
      "text/plain": [
       "   sell_date  num_sold                      products\n",
       "0 2020-05-30         3  Basketball,Headphone,T-Shirt\n",
       "1 2020-06-01         2                  Bible,Pencil\n",
       "2 2020-06-02         1                          Mask"
      ]
     },
     "execution_count": 21,
     "metadata": {},
     "output_type": "execute_result"
    }
   ],
   "source": [
    "data = [['2020-05-30', 'Headphone'], ['2020-06-01', 'Pencil'], ['2020-06-02', 'Mask'], ['2020-05-30', 'Basketball'], ['2020-06-01', 'Bible'], ['2020-06-02', 'Mask'], ['2020-05-30', 'T-Shirt']]\n",
    "activities = pd.DataFrame(data, columns=['sell_date', 'product']).astype({'sell_date':'datetime64[ns]', 'product':'object'})\n",
    "categorize_products(activities)"
   ]
  },
  {
   "cell_type": "code",
   "execution_count": null,
   "id": "4b3239bf-ce11-4477-87cf-f84d0073a714",
   "metadata": {},
   "outputs": [],
   "source": []
  }
 ],
 "metadata": {
  "kernelspec": {
   "display_name": "Python 3 (ipykernel)",
   "language": "python",
   "name": "python3"
  },
  "language_info": {
   "codemirror_mode": {
    "name": "ipython",
    "version": 3
   },
   "file_extension": ".py",
   "mimetype": "text/x-python",
   "name": "python",
   "nbconvert_exporter": "python",
   "pygments_lexer": "ipython3",
   "version": "3.10.12"
  }
 },
 "nbformat": 4,
 "nbformat_minor": 5
}
