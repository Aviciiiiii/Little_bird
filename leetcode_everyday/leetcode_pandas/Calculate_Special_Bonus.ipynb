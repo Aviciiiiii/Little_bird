{
 "cells": [
  {
   "cell_type": "markdown",
   "id": "0f710ea2-258f-46cb-a0ca-d796c58ab750",
   "metadata": {},
   "source": [
    "# 计算特殊奖金"
   ]
  },
  {
   "cell_type": "code",
   "execution_count": null,
   "id": "bf766321-dd62-43e2-bebd-26e56f023941",
   "metadata": {},
   "outputs": [],
   "source": [
    "表: Employees\n",
    "\n",
    "+-------------+---------+\n",
    "| 列名        | 类型     |\n",
    "+-------------+---------+\n",
    "| employee_id | int     |\n",
    "| name        | varchar |\n",
    "| salary      | int     |\n",
    "+-------------+---------+\n",
    "employee_id 是这个表的主键(具有唯一值的列)。\n",
    "此表的每一行给出了雇员id ，名字和薪水。\n",
    " \n",
    "\n",
    "编写解决方案，计算每个雇员的奖金。如果一个雇员的 id 是 奇数 并且他的名字不是以 M 开头，那么他的奖金是他工资的 100% ，否则奖金为 0 。\n",
    "\n",
    "返回的结果按照 employee_id 排序。\n",
    "\n",
    "返回结果格式如下面的例子所示。\n",
    "\n",
    " \n",
    "\n",
    "示例 1:\n",
    "\n",
    "输入：\n",
    "Employees 表:\n",
    "+-------------+---------+--------+\n",
    "| employee_id | name    | salary |\n",
    "+-------------+---------+--------+\n",
    "| 2           | Meir    | 3000   |\n",
    "| 3           | Michael | 3800   |\n",
    "| 7           | Addilyn | 7400   |\n",
    "| 8           | Juan    | 6100   |\n",
    "| 9           | Kannon  | 7700   |\n",
    "+-------------+---------+--------+\n",
    "输出：\n",
    "+-------------+-------+\n",
    "| employee_id | bonus |\n",
    "+-------------+-------+\n",
    "| 2           | 0     |\n",
    "| 3           | 0     |\n",
    "| 7           | 7400  |\n",
    "| 8           | 0     |\n",
    "| 9           | 7700  |\n",
    "+-------------+-------+\n",
    "解释：\n",
    "因为雇员id是偶数，所以雇员id 是2和8的两个雇员得到的奖金是0。\n",
    "雇员id为3的因为他的名字以'M'开头，所以，奖金是0。\n",
    "其他的雇员得到了百分之百的奖金。"
   ]
  },
  {
   "cell_type": "code",
   "execution_count": 1,
   "id": "f7cad25b-736b-4591-a71b-771e74100d81",
   "metadata": {},
   "outputs": [],
   "source": [
    "import pandas as pd\n",
    "\"\"\"\n",
    "思路：此题没有使用<table>[(<table_condition>)]来选取目标行， 而是使用.where((<table_condition>), <operation>)\n",
    "    其中table_conditino使用id取余和字符串首字符否匹配操作\n",
    "Tips: .where((<table_condition>), <operation>), &, ~, sort_values(by=)\n",
    "\"\"\"\n",
    "def calculate_special_bonus(employees: pd.DataFrame) -> pd.DataFrame:\n",
    "    employees['bonus'] = employees['salary'].where((employees['employee_id'] % 2 == 1) & ~(employees['name'].str[0] == 'M'), employees['salary'] * 0)\n",
    "    return employees[['employee_id', 'bonus']].sort_values(by='employee_id')"
   ]
  },
  {
   "cell_type": "code",
   "execution_count": 2,
   "id": "8e87d7d3-3806-480f-a7ac-cfdd44dcfcbc",
   "metadata": {},
   "outputs": [
    {
     "data": {
      "text/html": [
       "<div>\n",
       "<style scoped>\n",
       "    .dataframe tbody tr th:only-of-type {\n",
       "        vertical-align: middle;\n",
       "    }\n",
       "\n",
       "    .dataframe tbody tr th {\n",
       "        vertical-align: top;\n",
       "    }\n",
       "\n",
       "    .dataframe thead th {\n",
       "        text-align: right;\n",
       "    }\n",
       "</style>\n",
       "<table border=\"1\" class=\"dataframe\">\n",
       "  <thead>\n",
       "    <tr style=\"text-align: right;\">\n",
       "      <th></th>\n",
       "      <th>employee_id</th>\n",
       "      <th>bonus</th>\n",
       "    </tr>\n",
       "  </thead>\n",
       "  <tbody>\n",
       "    <tr>\n",
       "      <th>0</th>\n",
       "      <td>2</td>\n",
       "      <td>0</td>\n",
       "    </tr>\n",
       "    <tr>\n",
       "      <th>1</th>\n",
       "      <td>3</td>\n",
       "      <td>0</td>\n",
       "    </tr>\n",
       "    <tr>\n",
       "      <th>2</th>\n",
       "      <td>7</td>\n",
       "      <td>7400</td>\n",
       "    </tr>\n",
       "    <tr>\n",
       "      <th>3</th>\n",
       "      <td>8</td>\n",
       "      <td>0</td>\n",
       "    </tr>\n",
       "    <tr>\n",
       "      <th>4</th>\n",
       "      <td>9</td>\n",
       "      <td>7700</td>\n",
       "    </tr>\n",
       "  </tbody>\n",
       "</table>\n",
       "</div>"
      ],
      "text/plain": [
       "   employee_id  bonus\n",
       "0            2      0\n",
       "1            3      0\n",
       "2            7   7400\n",
       "3            8      0\n",
       "4            9   7700"
      ]
     },
     "execution_count": 2,
     "metadata": {},
     "output_type": "execute_result"
    }
   ],
   "source": [
    "data = [[2, 'Meir', 3000], [3, 'Michael', 3800], [7, 'Addilyn', 7400], [8, 'Juan', 6100], [9, 'Kannon', 7700]]\n",
    "employees = pd.DataFrame(data, columns=['employee_id', 'name', 'salary']).astype({'employee_id':'int64', 'name':'object', 'salary':'int64'})\n",
    "calculate_special_bonus(employees)"
   ]
  },
  {
   "cell_type": "code",
   "execution_count": null,
   "id": "696faa1f-9aad-457c-ade6-c9257ce5b212",
   "metadata": {},
   "outputs": [],
   "source": []
  }
 ],
 "metadata": {
  "kernelspec": {
   "display_name": "Python 3 (ipykernel)",
   "language": "python",
   "name": "python3"
  },
  "language_info": {
   "codemirror_mode": {
    "name": "ipython",
    "version": 3
   },
   "file_extension": ".py",
   "mimetype": "text/x-python",
   "name": "python",
   "nbconvert_exporter": "python",
   "pygments_lexer": "ipython3",
   "version": "3.9.0"
  }
 },
 "nbformat": 4,
 "nbformat_minor": 5
}
