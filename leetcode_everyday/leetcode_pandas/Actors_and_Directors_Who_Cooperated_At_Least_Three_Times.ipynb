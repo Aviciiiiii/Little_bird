{
 "cells": [
  {
   "cell_type": "markdown",
   "id": "9a085872-acee-4718-8b40-dcae0272c057",
   "metadata": {},
   "source": [
    "# 合作过至少三次的演员和导演"
   ]
  },
  {
   "cell_type": "code",
   "execution_count": null,
   "id": "ee407b0c-8baf-46c4-882a-6683aa36c088",
   "metadata": {},
   "outputs": [],
   "source": [
    "ActorDirector 表：\n",
    "\n",
    "+-------------+---------+\n",
    "| Column Name | Type    |\n",
    "+-------------+---------+\n",
    "| actor_id    | int     |\n",
    "| director_id | int     |\n",
    "| timestamp   | int     |\n",
    "+-------------+---------+\n",
    "timestamp 是这张表的主键(具有唯一值的列).\n",
    " \n",
    "\n",
    "编写解决方案找出合作过至少三次的演员和导演的 id 对 (actor_id, director_id)\n",
    "\n",
    " \n",
    "\n",
    "示例 1：\n",
    "\n",
    "输入：\n",
    "ActorDirector 表：\n",
    "+-------------+-------------+-------------+\n",
    "| actor_id    | director_id | timestamp   |\n",
    "+-------------+-------------+-------------+\n",
    "| 1           | 1           | 0           |\n",
    "| 1           | 1           | 1           |\n",
    "| 1           | 1           | 2           |\n",
    "| 1           | 2           | 3           |\n",
    "| 1           | 2           | 4           |\n",
    "| 2           | 1           | 5           |\n",
    "| 2           | 1           | 6           |\n",
    "+-------------+-------------+-------------+\n",
    "输出：\n",
    "+-------------+-------------+\n",
    "| actor_id    | director_id |\n",
    "+-------------+-------------+\n",
    "| 1           | 1           |\n",
    "+-------------+-------------+\n",
    "解释：\n",
    "唯一的 id 对是 (1, 1)，他们恰好合作了 3 次。"
   ]
  },
  {
   "cell_type": "code",
   "execution_count": 2,
   "id": "0ca988bc-3e86-448f-b568-da09560f1f17",
   "metadata": {
    "tags": []
   },
   "outputs": [],
   "source": [
    "import pandas as pd\n",
    "\"\"\"\n",
    "思路：以[导演, 演员]为唯一值分组，后统计其唯一值的数量，即为不同导演和演员合作次数，最后输出次数超过3次的组合。\n",
    "Tips: groupby(), size(), reset_index(name)\n",
    "\"\"\"\n",
    "def actors_and_directors(actor_director: pd.DataFrame) -> pd.DataFrame:\n",
    "    \n",
    "    # 分组统计合作次数\n",
    "    new_df4 = actor_director.groupby([\"actor_id\", \"director_id\"]).size().reset_index(name=\"cnt\")\n",
    "    return new_df4[new_df4[\"cnt\"] >= 3][[\"actor_id\", \"director_id\"]]"
   ]
  },
  {
   "cell_type": "code",
   "execution_count": 3,
   "id": "8b350948-8d75-4e9a-a38b-ba3e9f57d225",
   "metadata": {
    "tags": []
   },
   "outputs": [
    {
     "data": {
      "text/html": [
       "<div>\n",
       "<style scoped>\n",
       "    .dataframe tbody tr th:only-of-type {\n",
       "        vertical-align: middle;\n",
       "    }\n",
       "\n",
       "    .dataframe tbody tr th {\n",
       "        vertical-align: top;\n",
       "    }\n",
       "\n",
       "    .dataframe thead th {\n",
       "        text-align: right;\n",
       "    }\n",
       "</style>\n",
       "<table border=\"1\" class=\"dataframe\">\n",
       "  <thead>\n",
       "    <tr style=\"text-align: right;\">\n",
       "      <th></th>\n",
       "      <th>actor_id</th>\n",
       "      <th>director_id</th>\n",
       "    </tr>\n",
       "  </thead>\n",
       "  <tbody>\n",
       "    <tr>\n",
       "      <th>0</th>\n",
       "      <td>1</td>\n",
       "      <td>1</td>\n",
       "    </tr>\n",
       "  </tbody>\n",
       "</table>\n",
       "</div>"
      ],
      "text/plain": [
       "   actor_id  director_id\n",
       "0         1            1"
      ]
     },
     "execution_count": 3,
     "metadata": {},
     "output_type": "execute_result"
    }
   ],
   "source": [
    "data = [[1, 1, 0], [1, 1, 1], [1, 1, 2], [1, 2, 3], [1, 2, 4], [2, 1, 5], [2, 1, 6]]\n",
    "actor_director = pd.DataFrame(data, columns=['actor_id', 'director_id', 'timestamp']).astype({'actor_id':'int64', 'director_id':'int64', 'timestamp':'int64'})\n",
    "actors_and_directors(actor_director)"
   ]
  },
  {
   "cell_type": "code",
   "execution_count": null,
   "id": "511affea-1598-4c2d-a099-5d8ca3ed78a5",
   "metadata": {},
   "outputs": [],
   "source": []
  }
 ],
 "metadata": {
  "kernelspec": {
   "display_name": "Python 3 (ipykernel)",
   "language": "python",
   "name": "python3"
  },
  "language_info": {
   "codemirror_mode": {
    "name": "ipython",
    "version": 3
   },
   "file_extension": ".py",
   "mimetype": "text/x-python",
   "name": "python",
   "nbconvert_exporter": "python",
   "pygments_lexer": "ipython3",
   "version": "3.10.12"
  }
 },
 "nbformat": 4,
 "nbformat_minor": 5
}
