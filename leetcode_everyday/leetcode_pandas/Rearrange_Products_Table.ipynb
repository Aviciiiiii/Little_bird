{
 "cells": [
  {
   "cell_type": "markdown",
   "id": "14f6561f-a757-42d6-a455-5b4139ccf1d1",
   "metadata": {},
   "source": [
    "# 每个产品在不同商店的价格"
   ]
  },
  {
   "cell_type": "code",
   "execution_count": null,
   "id": "fed1456d-ba51-467c-9d66-a65b0d1775f9",
   "metadata": {},
   "outputs": [],
   "source": [
    "表：Products\n",
    "\n",
    "+-------------+---------+\n",
    "| Column Name | Type    |\n",
    "+-------------+---------+\n",
    "| product_id  | int     |\n",
    "| store1      | int     |\n",
    "| store2      | int     |\n",
    "| store3      | int     |\n",
    "+-------------+---------+\n",
    "在 SQL 中，这张表的主键是 product_id（产品Id）。\n",
    "每行存储了这一产品在不同商店 store1, store2, store3 的价格。\n",
    "如果这一产品在商店里没有出售，则值将为 null。\n",
    " \n",
    "\n",
    "请你重构 Products 表，查询每个产品在不同商店的价格，使得输出的格式变为(product_id, store, price) 。如果这一产品在商店里没有出售，则不输出这一行。\n",
    "\n",
    "输出结果表中的 顺序不作要求 。\n",
    "\n",
    "查询输出格式请参考下面示例。\n",
    "\n",
    " \n",
    "\n",
    "示例 1：\n",
    "\n",
    "输入：\n",
    "Products table:\n",
    "+------------+--------+--------+--------+\n",
    "| product_id | store1 | store2 | store3 |\n",
    "+------------+--------+--------+--------+\n",
    "| 0          | 95     | 100    | 105    |\n",
    "| 1          | 70     | null   | 80     |\n",
    "+------------+--------+--------+--------+\n",
    "输出：\n",
    "+------------+--------+-------+\n",
    "| product_id | store  | price |\n",
    "+------------+--------+-------+\n",
    "| 0          | store1 | 95    |\n",
    "| 0          | store2 | 100   |\n",
    "| 0          | store3 | 105   |\n",
    "| 1          | store1 | 70    |\n",
    "| 1          | store3 | 80    |\n",
    "+------------+--------+-------+\n",
    "解释：\n",
    "产品 0 在 store1、store2、store3 的价格分别为 95、100、105。\n",
    "产品 1 在 store1、store3 的价格分别为 70、80。在 store2 无法买到。"
   ]
  },
  {
   "cell_type": "code",
   "execution_count": 1,
   "id": "d77f4d11-c187-4ba0-9238-8e99345267cf",
   "metadata": {
    "tags": []
   },
   "outputs": [],
   "source": [
    "import pandas as pd\n",
    "\n",
    "\"\"\"\n",
    "思路: 看到需要宽表拉为长表，考虑使用melt方法\n",
    "melt(<table>, id_vars, value_vars, var_name, value_name)\n",
    "id_vars: 指定要保留的ID索引\n",
    "value_vars: 转换前包含值的列（需要转换为行名的列名）\n",
    "var_name: 转换后包含value_vars的列名\n",
    "value_name: 转换后包含转换前的值的列名\n",
    "\n",
    "Tips：melt(<table>, id_vars, values_vars, var_name, value_name), dropna(subset=)\n",
    "\"\"\"\n",
    "\n",
    "def rearrange_products_table(products: pd.DataFrame) -> pd.DataFrame:\n",
    "    products = pd.melt(products, id_vars=['product_id'], value_vars=['store1', 'store2', 'store3'], var_name='store', value_name='price')\n",
    "    products = products.dropna(subset=['price'])\n",
    "    return products"
   ]
  },
  {
   "cell_type": "code",
   "execution_count": 3,
   "id": "f01c3711-b165-4eb7-8a3b-89cdded4926f",
   "metadata": {
    "tags": []
   },
   "outputs": [
    {
     "data": {
      "text/html": [
       "<div>\n",
       "<style scoped>\n",
       "    .dataframe tbody tr th:only-of-type {\n",
       "        vertical-align: middle;\n",
       "    }\n",
       "\n",
       "    .dataframe tbody tr th {\n",
       "        vertical-align: top;\n",
       "    }\n",
       "\n",
       "    .dataframe thead th {\n",
       "        text-align: right;\n",
       "    }\n",
       "</style>\n",
       "<table border=\"1\" class=\"dataframe\">\n",
       "  <thead>\n",
       "    <tr style=\"text-align: right;\">\n",
       "      <th></th>\n",
       "      <th>product_id</th>\n",
       "      <th>store</th>\n",
       "      <th>price</th>\n",
       "    </tr>\n",
       "  </thead>\n",
       "  <tbody>\n",
       "    <tr>\n",
       "      <th>0</th>\n",
       "      <td>0</td>\n",
       "      <td>store1</td>\n",
       "      <td>95.0</td>\n",
       "    </tr>\n",
       "    <tr>\n",
       "      <th>1</th>\n",
       "      <td>1</td>\n",
       "      <td>store1</td>\n",
       "      <td>70.0</td>\n",
       "    </tr>\n",
       "    <tr>\n",
       "      <th>2</th>\n",
       "      <td>0</td>\n",
       "      <td>store2</td>\n",
       "      <td>100.0</td>\n",
       "    </tr>\n",
       "    <tr>\n",
       "      <th>4</th>\n",
       "      <td>0</td>\n",
       "      <td>store3</td>\n",
       "      <td>105.0</td>\n",
       "    </tr>\n",
       "    <tr>\n",
       "      <th>5</th>\n",
       "      <td>1</td>\n",
       "      <td>store3</td>\n",
       "      <td>80.0</td>\n",
       "    </tr>\n",
       "  </tbody>\n",
       "</table>\n",
       "</div>"
      ],
      "text/plain": [
       "   product_id   store  price\n",
       "0           0  store1   95.0\n",
       "1           1  store1   70.0\n",
       "2           0  store2  100.0\n",
       "4           0  store3  105.0\n",
       "5           1  store3   80.0"
      ]
     },
     "execution_count": 3,
     "metadata": {},
     "output_type": "execute_result"
    }
   ],
   "source": [
    "data = [[0, 95, 100, 105], [1, 70, None, 80]]\n",
    "products = pd.DataFrame(data, columns=['product_id', 'store1', 'store2', 'store3']).astype({'product_id':'int64', 'store1':'int64', 'store3':'int64'})\n",
    "rearrange_products_table(products)"
   ]
  },
  {
   "cell_type": "code",
   "execution_count": null,
   "id": "11212ae6-fb1e-49b0-b7a4-6e3e5569ae93",
   "metadata": {},
   "outputs": [],
   "source": []
  }
 ],
 "metadata": {
  "kernelspec": {
   "display_name": "Python 3 (ipykernel)",
   "language": "python",
   "name": "python3"
  },
  "language_info": {
   "codemirror_mode": {
    "name": "ipython",
    "version": 3
   },
   "file_extension": ".py",
   "mimetype": "text/x-python",
   "name": "python",
   "nbconvert_exporter": "python",
   "pygments_lexer": "ipython3",
   "version": "3.10.12"
  }
 },
 "nbformat": 4,
 "nbformat_minor": 5
}
