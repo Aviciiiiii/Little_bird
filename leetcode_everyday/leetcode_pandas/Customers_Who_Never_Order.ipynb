{
 "cells": [
  {
   "cell_type": "markdown",
   "id": "9bcef3c1-f0da-48ba-a9b5-17d22ddfb217",
   "metadata": {},
   "source": [
    "# 从不订购的客户"
   ]
  },
  {
   "cell_type": "code",
   "execution_count": null,
   "id": "2b16dd38-59ce-4b10-a647-62607acb36bd",
   "metadata": {},
   "outputs": [],
   "source": [
    "Customers 表：\n",
    "\n",
    "+-------------+---------+\n",
    "| Column Name | Type    |\n",
    "+-------------+---------+\n",
    "| id          | int     |\n",
    "| name        | varchar |\n",
    "+-------------+---------+\n",
    "在 SQL 中，id 是该表的主键。\n",
    "该表的每一行都表示客户的 ID 和名称。\n",
    "Orders 表：\n",
    "\n",
    "+-------------+------+\n",
    "| Column Name | Type |\n",
    "+-------------+------+\n",
    "| id          | int  |\n",
    "| customerId  | int  |\n",
    "+-------------+------+\n",
    "在 SQL 中，id 是该表的主键。\n",
    "customerId 是 Customers 表中 ID 的外键( Pandas 中的连接键)。\n",
    "该表的每一行都表示订单的 ID 和订购该订单的客户的 ID。\n",
    " \n",
    "\n",
    "找出所有从不点任何东西的顾客。\n",
    "\n",
    "以 任意顺序 返回结果表。\n",
    "\n",
    "结果格式如下所示。\n",
    "\n",
    " \n",
    "\n",
    "示例 1：\n",
    "\n",
    "输入：\n",
    "Customers table:\n",
    "+----+-------+\n",
    "| id | name  |\n",
    "+----+-------+\n",
    "| 1  | Joe   |\n",
    "| 2  | Henry |\n",
    "| 3  | Sam   |\n",
    "| 4  | Max   |\n",
    "+----+-------+\n",
    "Orders table:\n",
    "+----+------------+\n",
    "| id | customerId |\n",
    "+----+------------+\n",
    "| 1  | 3          |\n",
    "| 2  | 1          |\n",
    "+----+------------+\n",
    "输出：\n",
    "+-----------+\n",
    "| Customers |\n",
    "+-----------+\n",
    "| Henry     |\n",
    "| Max       |\n",
    "+-----------+"
   ]
  },
  {
   "cell_type": "code",
   "execution_count": 2,
   "id": "cf4e017b-983a-464c-aabb-614e16b3a364",
   "metadata": {
    "tags": []
   },
   "outputs": [],
   "source": [
    "import pandas as pd\n",
    "\"\"\"\n",
    "思路：用isin()查找看orders表中ID是否在Customers表中有对应ID，输出非对应行的name\n",
    "Tips: ~, C[A.isin(B)](用B所包含的值选取A所在的，映射到C对应的行), rename(columns=)\n",
    "\"\"\"\n",
    "\n",
    "def find_customers(customers: pd.DataFrame, orders: pd.DataFrame) -> pd.DataFrame:\n",
    "    # 利用.isin()选取目标行之后，再rename()更换列名，注意使用[[' ']]来生成新DataFrame数据格式\n",
    "    return customers[~customers['id'].isin(orders['customerId'])][['name']].rename(columns={'name': 'Customers'})"
   ]
  },
  {
   "cell_type": "code",
   "execution_count": 3,
   "id": "ae0eb910-e315-4b17-ba05-a8299b4daf22",
   "metadata": {
    "tags": []
   },
   "outputs": [],
   "source": [
    "data = [[1, 'Joe'], [2, 'Henry'], [3, 'Sam'], [4, 'Max']]\n",
    "customers = pd.DataFrame(data, columns=['id', 'name']).astype({'id':'Int64', 'name':'object'})\n",
    "data = [[1, 3], [2, 1]]\n",
    "orders = pd.DataFrame(data, columns=['id', 'customerId']).astype({'id':'Int64', 'customerId':'Int64'})\n"
   ]
  },
  {
   "cell_type": "code",
   "execution_count": 4,
   "id": "f99b65e0-657a-490d-b8b4-7d2ea746e41b",
   "metadata": {
    "tags": []
   },
   "outputs": [
    {
     "data": {
      "text/html": [
       "<div>\n",
       "<style scoped>\n",
       "    .dataframe tbody tr th:only-of-type {\n",
       "        vertical-align: middle;\n",
       "    }\n",
       "\n",
       "    .dataframe tbody tr th {\n",
       "        vertical-align: top;\n",
       "    }\n",
       "\n",
       "    .dataframe thead th {\n",
       "        text-align: right;\n",
       "    }\n",
       "</style>\n",
       "<table border=\"1\" class=\"dataframe\">\n",
       "  <thead>\n",
       "    <tr style=\"text-align: right;\">\n",
       "      <th></th>\n",
       "      <th>id</th>\n",
       "      <th>name</th>\n",
       "    </tr>\n",
       "  </thead>\n",
       "  <tbody>\n",
       "    <tr>\n",
       "      <th>1</th>\n",
       "      <td>2</td>\n",
       "      <td>Henry</td>\n",
       "    </tr>\n",
       "    <tr>\n",
       "      <th>3</th>\n",
       "      <td>4</td>\n",
       "      <td>Max</td>\n",
       "    </tr>\n",
       "  </tbody>\n",
       "</table>\n",
       "</div>"
      ],
      "text/plain": [
       "   id   name\n",
       "1   2  Henry\n",
       "3   4    Max"
      ]
     },
     "execution_count": 4,
     "metadata": {},
     "output_type": "execute_result"
    }
   ],
   "source": [
    "new_df = customers[~customers['id'].isin(orders['customerId'])]\n",
    "new_df"
   ]
  },
  {
   "cell_type": "code",
   "execution_count": null,
   "id": "211b00c7-e7af-41d5-b593-caa95b82d53b",
   "metadata": {},
   "outputs": [],
   "source": []
  }
 ],
 "metadata": {
  "kernelspec": {
   "display_name": "Python 3 (ipykernel)",
   "language": "python",
   "name": "python3"
  },
  "language_info": {
   "codemirror_mode": {
    "name": "ipython",
    "version": 3
   },
   "file_extension": ".py",
   "mimetype": "text/x-python",
   "name": "python",
   "nbconvert_exporter": "python",
   "pygments_lexer": "ipython3",
   "version": "3.9.0"
  }
 },
 "nbformat": 4,
 "nbformat_minor": 5
}
