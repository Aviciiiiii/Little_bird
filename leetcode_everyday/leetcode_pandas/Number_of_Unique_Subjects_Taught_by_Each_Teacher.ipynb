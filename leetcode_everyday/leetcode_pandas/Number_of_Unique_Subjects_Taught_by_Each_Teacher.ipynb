{
 "cells": [
  {
   "cell_type": "markdown",
   "id": "c8e64db1-566e-4421-af23-7aab4032c5b6",
   "metadata": {},
   "source": [
    "# 每位教师所教授的科目种类的数量"
   ]
  },
  {
   "cell_type": "code",
   "execution_count": null,
   "id": "1d621e5b-eb54-4591-855e-e642111d6fcb",
   "metadata": {},
   "outputs": [],
   "source": [
    "表: Teacher\n",
    "\n",
    "+-------------+------+\n",
    "| Column Name | Type |\n",
    "+-------------+------+\n",
    "| teacher_id  | int  |\n",
    "| subject_id  | int  |\n",
    "| dept_id     | int  |\n",
    "+-------------+------+\n",
    "在 SQL 中，(subject_id, dept_id) 是该表的主键。\n",
    "该表中的每一行都表示带有 teacher_id 的教师在系 dept_id 中教授科目 subject_id。\n",
    " \n",
    "\n",
    "查询每位老师在大学里教授的科目种类的数量。\n",
    "\n",
    "以 任意顺序 返回结果表。\n",
    "\n",
    "查询结果格式示例如下。\n",
    "\n",
    " \n",
    "\n",
    "示例 1:\n",
    "\n",
    "输入: \n",
    "Teacher 表:\n",
    "+------------+------------+---------+\n",
    "| teacher_id | subject_id | dept_id |\n",
    "+------------+------------+---------+\n",
    "| 1          | 2          | 3       |\n",
    "| 1          | 2          | 4       |\n",
    "| 1          | 3          | 3       |\n",
    "| 2          | 1          | 1       |\n",
    "| 2          | 2          | 1       |\n",
    "| 2          | 3          | 1       |\n",
    "| 2          | 4          | 1       |\n",
    "+------------+------------+---------+\n",
    "输出:  \n",
    "+------------+-----+\n",
    "| teacher_id | cnt |\n",
    "+------------+-----+\n",
    "| 1          | 2   |\n",
    "| 2          | 4   |\n",
    "+------------+-----+\n",
    "解释: \n",
    "教师 1:\n",
    "  - 他在 3、4 系教科目 2。\n",
    "  - 他在 3 系教科目 3。\n",
    "教师 2:\n",
    "  - 他在 1 系教科目 1。\n",
    "  - 他在 1 系教科目 2。\n",
    "  - 他在 1 系教科目 3。\n",
    "  - 他在 1 系教科目 4。"
   ]
  },
  {
   "cell_type": "code",
   "execution_count": 2,
   "id": "c631a3d1-bc28-4062-bfeb-eee17079c168",
   "metadata": {
    "tags": []
   },
   "outputs": [],
   "source": [
    "import pandas as pd\n",
    "\"\"\"\n",
    "思路：看到需要统计科目数量，想到使用count()，但是考虑到教师教授科目有重复，故使用nunique()来统计每个唯一科目\n",
    "Tips: groupby(), nunique(), reset_index(), rename(, axis, inplace)\n",
    "\"\"\"\n",
    "def count_unique_subjects(teacher: pd.DataFrame) -> pd.DataFrame:\n",
    "    return teacher.groupby(\"teacher_id\")[\"subject_id\"].nunique().reset_index().rename({\"subject_id\":\"cnt\"}, axis=1)\n",
    "    # nunique()统计在该组下不同元素的数量"
   ]
  },
  {
   "cell_type": "code",
   "execution_count": 3,
   "id": "7fdee065-f68d-4541-9dee-83da20fd9799",
   "metadata": {
    "tags": []
   },
   "outputs": [
    {
     "data": {
      "text/html": [
       "<div>\n",
       "<style scoped>\n",
       "    .dataframe tbody tr th:only-of-type {\n",
       "        vertical-align: middle;\n",
       "    }\n",
       "\n",
       "    .dataframe tbody tr th {\n",
       "        vertical-align: top;\n",
       "    }\n",
       "\n",
       "    .dataframe thead th {\n",
       "        text-align: right;\n",
       "    }\n",
       "</style>\n",
       "<table border=\"1\" class=\"dataframe\">\n",
       "  <thead>\n",
       "    <tr style=\"text-align: right;\">\n",
       "      <th></th>\n",
       "      <th>teacher_id</th>\n",
       "      <th>cnt</th>\n",
       "    </tr>\n",
       "  </thead>\n",
       "  <tbody>\n",
       "    <tr>\n",
       "      <th>0</th>\n",
       "      <td>1</td>\n",
       "      <td>2</td>\n",
       "    </tr>\n",
       "    <tr>\n",
       "      <th>1</th>\n",
       "      <td>2</td>\n",
       "      <td>4</td>\n",
       "    </tr>\n",
       "  </tbody>\n",
       "</table>\n",
       "</div>"
      ],
      "text/plain": [
       "   teacher_id  cnt\n",
       "0           1    2\n",
       "1           2    4"
      ]
     },
     "execution_count": 3,
     "metadata": {},
     "output_type": "execute_result"
    }
   ],
   "source": [
    "data = [[1, 2, 3], [1, 2, 4], [1, 3, 3], [2, 1, 1], [2, 2, 1], [2, 3, 1], [2, 4, 1]]\n",
    "teacher = pd.DataFrame(data, columns=['teacher_id', 'subject_id', 'dept_id']).astype({'teacher_id':'Int64', 'subject_id':'Int64', 'dept_id':'Int64'})\n",
    "count_unique_subjects(teacher)"
   ]
  },
  {
   "cell_type": "code",
   "execution_count": null,
   "id": "368ea5ea-52f8-4118-ba77-c75738a57781",
   "metadata": {},
   "outputs": [],
   "source": []
  }
 ],
 "metadata": {
  "kernelspec": {
   "display_name": "Python 3 (ipykernel)",
   "language": "python",
   "name": "python3"
  },
  "language_info": {
   "codemirror_mode": {
    "name": "ipython",
    "version": 3
   },
   "file_extension": ".py",
   "mimetype": "text/x-python",
   "name": "python",
   "nbconvert_exporter": "python",
   "pygments_lexer": "ipython3",
   "version": "3.10.12"
  }
 },
 "nbformat": 4,
 "nbformat_minor": 5
}
