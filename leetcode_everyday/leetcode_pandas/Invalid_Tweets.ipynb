{
 "cells": [
  {
   "cell_type": "markdown",
   "id": "1a0ddff3-968b-4c27-8aab-70756c892964",
   "metadata": {},
   "source": [
    "# 无效的推文"
   ]
  },
  {
   "cell_type": "code",
   "execution_count": null,
   "id": "624a6142-85ab-4c53-afb1-6b8f0c526f24",
   "metadata": {},
   "outputs": [],
   "source": [
    "表：Tweets\n",
    "\n",
    "+----------------+---------+\n",
    "| Column Name    | Type    |\n",
    "+----------------+---------+\n",
    "| tweet_id       | int     |\n",
    "| content        | varchar |\n",
    "+----------------+---------+\n",
    "在 SQL 中，tweet_id 是这个表的主键。\n",
    "这个表包含某社交媒体 App 中所有的推文。\n",
    " \n",
    "\n",
    "查询所有无效推文的编号（ID）。当推文内容中的字符数严格大于 15 时，该推文是无效的。\n",
    "\n",
    "以任意顺序返回结果表。\n",
    "\n",
    "查询结果格式如下所示：\n",
    "\n",
    " \n",
    "\n",
    "示例 1：\n",
    "\n",
    "输入：\n",
    "Tweets 表：\n",
    "+----------+----------------------------------+\n",
    "| tweet_id | content                          |\n",
    "+----------+----------------------------------+\n",
    "| 1        | Vote for Biden                   |\n",
    "| 2        | Let us make America great again! |\n",
    "+----------+----------------------------------+\n",
    "\n",
    "输出：\n",
    "+----------+\n",
    "| tweet_id |\n",
    "+----------+\n",
    "| 2        |\n",
    "+----------+\n",
    "解释：\n",
    "推文 1 的长度 length = 14。该推文是有效的。\n",
    "推文 2 的长度 length = 32。该推文是无效的。"
   ]
  },
  {
   "cell_type": "code",
   "execution_count": 1,
   "id": "4c58213e-ff40-4de3-becc-6d89b8f39e16",
   "metadata": {},
   "outputs": [],
   "source": [
    "import pandas as pd\n",
    "\"\"\"\n",
    "思路：已知条件<推文内容中的字符数严格大于 15>，其中使用.str.len()来确定行中的字符数\n",
    "Tips: .str.len(), [[]]\n",
    "\"\"\"\n",
    "def invalid_tweets(tweets: pd.DataFrame) -> pd.DataFrame:\n",
    "    return tweets[(tweets['content'].str.len() > 15)][['tweet_id']]"
   ]
  },
  {
   "cell_type": "code",
   "execution_count": 2,
   "id": "1bd6fdde-cfa7-4be5-bd4f-2831bcb90d41",
   "metadata": {},
   "outputs": [
    {
     "data": {
      "text/html": [
       "<div>\n",
       "<style scoped>\n",
       "    .dataframe tbody tr th:only-of-type {\n",
       "        vertical-align: middle;\n",
       "    }\n",
       "\n",
       "    .dataframe tbody tr th {\n",
       "        vertical-align: top;\n",
       "    }\n",
       "\n",
       "    .dataframe thead th {\n",
       "        text-align: right;\n",
       "    }\n",
       "</style>\n",
       "<table border=\"1\" class=\"dataframe\">\n",
       "  <thead>\n",
       "    <tr style=\"text-align: right;\">\n",
       "      <th></th>\n",
       "      <th>tweet_id</th>\n",
       "    </tr>\n",
       "  </thead>\n",
       "  <tbody>\n",
       "    <tr>\n",
       "      <th>1</th>\n",
       "      <td>2</td>\n",
       "    </tr>\n",
       "  </tbody>\n",
       "</table>\n",
       "</div>"
      ],
      "text/plain": [
       "   tweet_id\n",
       "1         2"
      ]
     },
     "execution_count": 2,
     "metadata": {},
     "output_type": "execute_result"
    }
   ],
   "source": [
    "data = [[1, 'Vote for Biden'], [2, 'Let us make America great again!']]\n",
    "tweets = pd.DataFrame(data, columns=['tweet_id', 'content']).astype({'tweet_id':'Int64', 'content':'object'})\n",
    "invalid_tweets(tweets)"
   ]
  },
  {
   "cell_type": "code",
   "execution_count": null,
   "id": "2f943dfc-0dc7-4c57-b641-1b6b48364c02",
   "metadata": {},
   "outputs": [],
   "source": []
  }
 ],
 "metadata": {
  "kernelspec": {
   "display_name": "Python 3 (ipykernel)",
   "language": "python",
   "name": "python3"
  },
  "language_info": {
   "codemirror_mode": {
    "name": "ipython",
    "version": 3
   },
   "file_extension": ".py",
   "mimetype": "text/x-python",
   "name": "python",
   "nbconvert_exporter": "python",
   "pygments_lexer": "ipython3",
   "version": "3.9.0"
  }
 },
 "nbformat": 4,
 "nbformat_minor": 5
}
