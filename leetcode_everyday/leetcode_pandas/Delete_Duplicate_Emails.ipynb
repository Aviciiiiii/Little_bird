{
 "cells": [
  {
   "cell_type": "markdown",
   "id": "bc029e85-42f9-4871-b4b7-5c27a9c53eb3",
   "metadata": {},
   "source": [
    "# 删除重复的电子邮箱"
   ]
  },
  {
   "cell_type": "code",
   "execution_count": null,
   "id": "01abb503-2a9c-4a5b-b930-353dccc6f0c1",
   "metadata": {},
   "outputs": [],
   "source": [
    "表: Person\n",
    "\n",
    "+-------------+---------+\n",
    "| Column Name | Type    |\n",
    "+-------------+---------+\n",
    "| id          | int     |\n",
    "| email       | varchar |\n",
    "+-------------+---------+\n",
    "id 是该表的主键列(具有唯一值的列)。\n",
    "该表的每一行包含一封电子邮件。电子邮件将不包含大写字母。\n",
    " \n",
    "\n",
    "编写解决方案 删除 所有重复的电子邮件，只保留一个具有最小 id 的唯一电子邮件。\n",
    "\n",
    "（对于 SQL 用户，请注意你应该编写一个 DELETE 语句而不是 SELECT 语句。）\n",
    "\n",
    "（对于 Pandas 用户，请注意你应该直接修改 Person 表。）\n",
    "\n",
    "运行脚本后，显示的答案是 Person 表。驱动程序将首先编译并运行您的代码片段，然后再显示 Person 表。Person 表的最终顺序 无关紧要 。\n",
    "\n",
    "返回结果格式如下示例所示。\n",
    "\n",
    " \n",
    "\n",
    "示例 1:\n",
    "\n",
    "输入: \n",
    "Person 表:\n",
    "+----+------------------+\n",
    "| id | email            |\n",
    "+----+------------------+\n",
    "| 1  | john@example.com |\n",
    "| 2  | bob@example.com  |\n",
    "| 3  | john@example.com |\n",
    "+----+------------------+\n",
    "输出: \n",
    "+----+------------------+\n",
    "| id | email            |\n",
    "+----+------------------+\n",
    "| 1  | john@example.com |\n",
    "| 2  | bob@example.com  |\n",
    "+----+------------------+\n",
    "解释: john@example.com重复两次。我们保留最小的Id = 1。"
   ]
  },
  {
   "cell_type": "code",
   "execution_count": 1,
   "id": "dc480262-cd68-446e-b5de-0fe14902267e",
   "metadata": {},
   "outputs": [],
   "source": [
    "import pandas as pd\n",
    "\n",
    "# Modify Person in place\n",
    "def delete_duplicate_emails(person: pd.DataFrame) -> None:\n",
    "    \"\"\"\n",
    "\n",
    "    思路：去除重复行，考虑使用drop_duplicates(subset, keep, inplace)\n",
    "    Tips: sort_values(by, inplace), drop_duplicates(subset, keep=\n",
    "    \"\"\"\n",
    "    # 对表格排序\n",
    "    person.sort_values(by='id', inplace=True)\n",
    "    \n",
    "    # 去除重复行\n",
    "    person.drop_duplicates(subset='email', keep='first', inplace=True)"
   ]
  },
  {
   "cell_type": "code",
   "execution_count": 3,
   "id": "23173cd2-9b5f-43f5-bba7-7be9ddaa1ee3",
   "metadata": {},
   "outputs": [
    {
     "data": {
      "text/html": [
       "<div>\n",
       "<style scoped>\n",
       "    .dataframe tbody tr th:only-of-type {\n",
       "        vertical-align: middle;\n",
       "    }\n",
       "\n",
       "    .dataframe tbody tr th {\n",
       "        vertical-align: top;\n",
       "    }\n",
       "\n",
       "    .dataframe thead th {\n",
       "        text-align: right;\n",
       "    }\n",
       "</style>\n",
       "<table border=\"1\" class=\"dataframe\">\n",
       "  <thead>\n",
       "    <tr style=\"text-align: right;\">\n",
       "      <th></th>\n",
       "      <th>id</th>\n",
       "      <th>email</th>\n",
       "    </tr>\n",
       "  </thead>\n",
       "  <tbody>\n",
       "    <tr>\n",
       "      <th>0</th>\n",
       "      <td>1</td>\n",
       "      <td>john@example.com</td>\n",
       "    </tr>\n",
       "    <tr>\n",
       "      <th>1</th>\n",
       "      <td>2</td>\n",
       "      <td>bob@example.com</td>\n",
       "    </tr>\n",
       "  </tbody>\n",
       "</table>\n",
       "</div>"
      ],
      "text/plain": [
       "   id             email\n",
       "0   1  john@example.com\n",
       "1   2   bob@example.com"
      ]
     },
     "execution_count": 3,
     "metadata": {},
     "output_type": "execute_result"
    }
   ],
   "source": [
    "data = [[1, 'john@example.com'], [2, 'bob@example.com'], [3, 'john@example.com']]\n",
    "person = pd.DataFrame(data, columns=['id', 'email']).astype({'id':'int64', 'email':'object'})\n",
    "delete_duplicate_emails(person)\n",
    "person"
   ]
  },
  {
   "cell_type": "code",
   "execution_count": null,
   "id": "edc229be-6974-422d-b7e5-469b0462b212",
   "metadata": {},
   "outputs": [],
   "source": []
  }
 ],
 "metadata": {
  "kernelspec": {
   "display_name": "Python 3 (ipykernel)",
   "language": "python",
   "name": "python3"
  },
  "language_info": {
   "codemirror_mode": {
    "name": "ipython",
    "version": 3
   },
   "file_extension": ".py",
   "mimetype": "text/x-python",
   "name": "python",
   "nbconvert_exporter": "python",
   "pygments_lexer": "ipython3",
   "version": "3.10.12"
  }
 },
 "nbformat": 4,
 "nbformat_minor": 5
}
