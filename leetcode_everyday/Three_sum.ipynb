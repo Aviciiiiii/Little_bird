{
  "nbformat": 4,
  "nbformat_minor": 0,
  "metadata": {
    "colab": {
      "provenance": []
    },
    "kernelspec": {
      "name": "python3",
      "display_name": "Python 3"
    },
    "language_info": {
      "name": "python"
    }
  },
  "cells": [
    {
      "cell_type": "markdown",
      "source": [
        "#Three_sum\n",
        "给你一个整数数组 nums ，判断是否存在三元组 [nums[i], nums[j], nums[k]] 满足 i != j、i != k 且 j != k ，同时还满足 nums[i] + nums[j] + nums[k] == 0 。请\n",
        "\n",
        "你返回所有和为 0 且不重复的三元组。\n",
        "\n",
        "注意：答案中不可以包含重复的三元组。\n",
        "\n",
        " \n",
        "\n",
        " \n",
        "\n",
        "示例 1：\n",
        "\n",
        "输入：nums = [-1,0,1,2,-1,-4]\n",
        "输出：[[-1,-1,2],[-1,0,1]]\n",
        "解释：\n",
        "nums[0] + nums[1] + nums[2] = (-1) + 0 + 1 = 0 。\n",
        "nums[1] + nums[2] + nums[4] = 0 + 1 + (-1) = 0 。\n",
        "nums[0] + nums[3] + nums[4] = (-1) + 2 + (-1) = 0 。\n",
        "不同的三元组是 [-1,0,1] 和 [-1,-1,2] 。\n",
        "注意，输出的顺序和三元组的顺序并不重要。\n",
        "\n",
        "来源：力扣（LeetCode）\n",
        "链接：https://leetcode.cn/problems/3sum\n",
        "著作权归领扣网络所有。商业转载请联系官方授权，非商业转载请注明出处。"
      ],
      "metadata": {
        "id": "SZQFRR4d6h5-"
      }
    },
    {
      "cell_type": "code",
      "source": [
        "a = [-2,0,0,2,2]\n",
        "b = sorted(a)\n",
        "print(b)\n",
        "three_sum(a)"
      ],
      "metadata": {
        "colab": {
          "base_uri": "https://localhost:8080/"
        },
        "id": "CSQSLw0L85Ry",
        "outputId": "19310dc1-2d04-45e3-afb1-5e1ad922cc24"
      },
      "execution_count": null,
      "outputs": [
        {
          "output_type": "stream",
          "name": "stdout",
          "text": [
            "[-2, 0, 0, 2, 2]\n"
          ]
        },
        {
          "output_type": "execute_result",
          "data": {
            "text/plain": [
              "[[2, 0, -2]]"
            ]
          },
          "metadata": {},
          "execution_count": 38
        }
      ]
    },
    {
      "cell_type": "code",
      "source": [
        "#思路：先对列表进行排序，后枚举nums[i]，采用双指针法（right/left），检查nums[right] + nums[left] = -nums[i]，如是，加入结果\n",
        "#若nums[right] + nums[left] > nums[i]，则说明需要左边需要减小（即right需要减小），< ,照样推理\n",
        "#两个需要注意的点：1.先判断枚举的数是否出现过；\n",
        "#               2.针对\"a = [-2,0,0,2,2]\"，考虑怎么跳过两次重复\n",
        "def three_sum(nums):\n",
        "  nums = sorted(nums)\n",
        "  ans = []\n",
        "  for i in range(len(nums)):\n",
        "    left = i + 1\n",
        "    right = len(nums) - 1\n",
        "    if nums[i] == nums[i - 1] and i > 0:\n",
        "      continue\n",
        "    while left < right:\n",
        "      if nums[right] + nums[left] == -nums[i]:\n",
        "        ans.append([nums[right], nums[left], nums[i]])\n",
        "        while left < right and nums[left] == nums[left + 1]:\n",
        "          left += 1\n",
        "        while left < right and nums[right] == nums[right - 1]:\n",
        "          right -= 1\n",
        "        right -= 1\n",
        "        left += 1\n",
        "      elif nums[right] + nums[left] > -nums[i]:\n",
        "        right -= 1\n",
        "      elif nums[right] + nums[left] < -nums[i]:\n",
        "        left += 1\n",
        "  return ans"
      ],
      "metadata": {
        "id": "Pw6ZJD49ePFV"
      },
      "execution_count": null,
      "outputs": []
    }
  ]
}