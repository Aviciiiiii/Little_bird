{
  "nbformat": 4,
  "nbformat_minor": 0,
  "metadata": {
    "colab": {
      "provenance": []
    },
    "kernelspec": {
      "name": "python3",
      "display_name": "Python 3"
    },
    "language_info": {
      "name": "python"
    }
  },
  "cells": [
    {
      "cell_type": "markdown",
      "source": [
        "## Largest_container\n",
        "给定一个长度为 n 的整数数组 height 。有 n 条垂线，第 i 条线的两个端点是 (i, 0) 和 (i, height[i]) 。\n",
        "\n",
        "找出其中的两条线，使得它们与 x 轴共同构成的容器可以容纳最多的水。\n",
        "\n",
        "返回容器可以储存的最大水量。\n",
        "\n",
        "说明：你不能倾斜容器。\n",
        "\n",
        " \n",
        "\n",
        "示例 1：\n",
        "输入：[1,8,6,2,5,4,8,3,7]\n",
        "输出：49 \n",
        "解释：图中垂直线代表输入数组 [1,8,6,2,5,4,8,3,7]。在此情况下，容器能够容纳水（表示为蓝色部分）的最大值为 49。\n",
        "\n",
        "来源：力扣（LeetCode）\n",
        "链接：https://leetcode.cn/problems/container-with-most-water\n",
        "著作权归领扣网络所有。商业转载请联系官方授权，非商业转载请注明出处。"
      ],
      "metadata": {
        "id": "KqeIUfO31csB"
      }
    },
    {
      "cell_type": "code",
      "source": [
        "#思路：容器面积由左右两个板子中短的板子来决定容积，故可设计两个指针来代表两个边界；\n",
        "#技巧：while循环比for快，考虑好while的终止条件\n",
        "#     考虑清楚指针的走向，这个题可以考虑由面积大向内缩，比两个指针从头开始走更快\n",
        "def largest_container(height):\n",
        "  l = 0\n",
        "  r = len(height) - 1\n",
        "  max_area = 0\n",
        "\n",
        "  while r > l:\n",
        "    area = (r - l) * min(height[r], height[l])\n",
        "    max_area = max(max_area, area) #更新最大面积\n",
        "    if height[l] > height[r]: #更新指针\n",
        "      r -= 1\n",
        "    else:\n",
        "      l += 1\n",
        "  \n",
        "  return max_area"
      ],
      "metadata": {
        "id": "OBi3C85bOufo"
      },
      "execution_count": null,
      "outputs": []
    },
    {
      "cell_type": "code",
      "source": [
        "height = [1, 8, 6, 2, 5, 4, 8, 3, 7]\n",
        "largest_container(height)"
      ],
      "metadata": {
        "colab": {
          "base_uri": "https://localhost:8080/"
        },
        "id": "m2_BnFEKAJ6l",
        "outputId": "4363de46-c7c7-4e5a-da91-484bf3a9a449"
      },
      "execution_count": null,
      "outputs": [
        {
          "output_type": "execute_result",
          "data": {
            "text/plain": [
              "49"
            ]
          },
          "metadata": {},
          "execution_count": 7
        }
      ]
    }
  ]
}