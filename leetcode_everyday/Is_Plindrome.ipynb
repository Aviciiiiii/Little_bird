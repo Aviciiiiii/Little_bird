{
  "cells": [
    {
      "cell_type": "markdown",
      "metadata": {
        "id": "h5HkgC4AfJhY"
      },
      "source": [
        "##Is_Palindrome\n",
        "\n",
        "给你一个整数 x ，如果 x 是一个回文整数，返回 true ；否则，返回 false 。\n",
        "\n",
        "回文数是指正序（从左向右）和倒序（从右向左）读都是一样的整数。\n",
        "\n",
        "例如，121 是回文，而 123 不是。\n",
        " \n",
        "\n",
        "示例 1：\n",
        "\n",
        "输入：x = 121\n",
        "输出：true\n",
        "\n",
        "来源：力扣（LeetCode）\n",
        "链接：https://leetcode.cn/problems/palindrome-number\n",
        "著作权归领扣网络所有。商业转载请联系官方授权，非商业转载请注明出处。"
      ]
    },
    {
      "cell_type": "code",
      "execution_count": 1,
      "metadata": {
        "id": "zi7Kxh4aeUtL"
      },
      "outputs": [],
      "source": [
        "#思路：使用双指针(i, j)分别索引开头和结尾，同时往中间靠拢，如果同时相等，则为回文。\n",
        "def is_palindrome(x):\n",
        "  x = str(x)\n",
        "  i = 0\n",
        "  j = len(x) - i -1\n",
        "  #对mid分len(x)奇偶进行分类讨论，比直接设mid = len(x)//2更快12ms\n",
        "  if len(x) % 2 == 0: \n",
        "    mid = len(x) // 2\n",
        "  elif len(x) % 2 != 0:\n",
        "    mid = (len(x) // 2) - 1\n",
        "  #\n",
        "  #奇偶讨论代价就是要补充mid=0的情况\n",
        "  if len(x) <= 3:\n",
        "    if x[i] == x[j]:\n",
        "      return True\n",
        "    else:\n",
        "      return False\n",
        "  #\n",
        "  for i in range(mid):\n",
        "    j = len(x) - i -1\n",
        "    if x[i] != x[j]:\n",
        "      return False\n",
        "    else:\n",
        "      continue\n",
        "  return True"
      ]
    },
    {
      "cell_type": "code",
      "execution_count": 2,
      "metadata": {
        "colab": {
          "base_uri": "https://localhost:8080/"
        },
        "id": "YoFH_KyTeixf",
        "outputId": "a3066868-ed5d-4ae1-9f5c-04a9f27c3ff3"
      },
      "outputs": [
        {
          "data": {
            "text/plain": [
              "True"
            ]
          },
          "execution_count": 2,
          "metadata": {},
          "output_type": "execute_result"
        }
      ],
      "source": [
        "is_palindrome(11)"
      ]
    },
    {
      "cell_type": "code",
      "execution_count": null,
      "metadata": {
        "id": "WuhNlzqhenVY"
      },
      "outputs": [],
      "source": [
        "#看了题解后用的更快的方法，思路：对前后字符串整体直接切片进行比较，不用遍历。注意要分奇偶讨论\n",
        "def is_palindrome(x):\n",
        "    mid = len(x) // 2\n",
        "    if len(x) // 2 == 0:\n",
        "        if x[:mid] == x[:mid-1, -1]: #\n",
        "            return True\n",
        "        else:\n",
        "            return False\n",
        "    elif len(x) // 2 != 0:\n",
        "        if x[:mid] == x[:mid, -1]:\n",
        "            return True\n",
        "        else:\n",
        "            return False"
      ]
    }
  ],
  "metadata": {
    "colab": {
      "provenance": []
    },
    "kernelspec": {
      "display_name": "Python 3",
      "name": "python3"
    },
    "language_info": {
      "name": "python"
    }
  },
  "nbformat": 4,
  "nbformat_minor": 0
}
