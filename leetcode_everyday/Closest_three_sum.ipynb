{
  "nbformat": 4,
  "nbformat_minor": 0,
  "metadata": {
    "colab": {
      "provenance": []
    },
    "kernelspec": {
      "name": "python3",
      "display_name": "Python 3"
    },
    "language_info": {
      "name": "python"
    }
  },
  "cells": [
    {
      "cell_type": "markdown",
      "source": [
        "#Closest_three_sum\n",
        "给你一个长度为 n 的整数数组 nums 和 一个目标值 target。请你从 nums 中选出三个整数，使它们的和与 target 最接近。\n",
        "\n",
        "返回这三个数的和。\n",
        "\n",
        "假定每组输入只存在恰好一个解。\n",
        "\n",
        " \n",
        "\n",
        "示例 1：\n",
        "\n",
        "输入：nums = [-1,2,1,-4], target = 1\n",
        "输出：2\n",
        "解释：与 target 最接近的和是 2 (-1 + 2 + 1 = 2) 。\n",
        "\n",
        "来源：力扣（LeetCode）\n",
        "链接：https://leetcode.cn/problems/3sum-closest\n",
        "著作权归领扣网络所有。商业转载请联系官方授权，非商业转载请注明出处。"
      ],
      "metadata": {
        "id": "mzRqFKd_QjD1"
      }
    },
    {
      "cell_type": "code",
      "source": [
        "#思路：用双指针法，使用双指针法前，需对列表进行排序，后对列表进行遍历来确定第一个数i，使用 while left < right:来left和right双指针往中间靠拢来进行遍历\n",
        "#遍历过程中用min_sum来存储离target最近总和值\n",
        "#细节：i遍历范围应该是（0, len(nums) - 2)\n",
        "def closest_three_sum(nums, target):\n",
        "  nums = sorted(nums)\n",
        "  n = len(nums)\n",
        "  min_sum = float('inf')\n",
        "  for i in range(n - 2):\n",
        "    left, right = i + 1, n - 1\n",
        "    while left < right:\n",
        "      total = nums[left] + nums[right] + nums[i]\n",
        "      if total == target:\n",
        "        return total\n",
        "      if abs(total - target) < abs(min_sum - target): #将离target数最近的和存储到min_sum\n",
        "        min_sum = total\n",
        "      if total < target:\n",
        "        left += 1\n",
        "      else:\n",
        "        right -= 1\n",
        "  return min_sum"
      ],
      "metadata": {
        "id": "OMbMByMBcETI"
      },
      "execution_count": null,
      "outputs": []
    },
    {
      "cell_type": "code",
      "source": [
        "e = [0, 1, 2]\n",
        "r = closest_three_sum(e, 3)\n",
        "r"
      ],
      "metadata": {
        "colab": {
          "base_uri": "https://localhost:8080/"
        },
        "id": "1CGMaI8JPA85",
        "outputId": "fcccf62b-a73c-41d4-c9e6-2b6f0531347c"
      },
      "execution_count": null,
      "outputs": [
        {
          "output_type": "execute_result",
          "data": {
            "text/plain": [
              "3"
            ]
          },
          "metadata": {},
          "execution_count": 27
        }
      ]
    }
  ]
}