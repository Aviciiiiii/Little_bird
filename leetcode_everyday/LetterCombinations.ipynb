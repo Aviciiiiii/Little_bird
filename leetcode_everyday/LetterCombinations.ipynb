{
  "nbformat": 4,
  "nbformat_minor": 0,
  "metadata": {
    "colab": {
      "provenance": []
    },
    "kernelspec": {
      "name": "python3",
      "display_name": "Python 3"
    },
    "language_info": {
      "name": "python"
    }
  },
  "cells": [
    {
      "cell_type": "markdown",
      "source": [
        "#Combination_Of_Letter\n",
        "给定一个仅包含数字 2-9 的字符串，返回所有它能表示的字母组合。答案可以按 任意顺序 返回。\n",
        "\n",
        "给出数字到字母的映射如下（与电话按键相同）。注意 1 不对应任何字母。\n",
        "\n",
        "\n",
        "\n",
        " \n",
        "\n",
        "示例 1：\n",
        "\n",
        "输入：digits = \"23\"\n",
        "输出：[\"ad\",\"ae\",\"af\",\"bd\",\"be\",\"bf\",\"cd\",\"ce\",\"cf\"]\n",
        "\n",
        "来源：力扣（LeetCode）\n",
        "链接：https://leetcode.cn/problems/letter-combinations-of-a-phone-number\n",
        "著作权归领扣网络所有。商业转载请联系官方授权，非商业转载请注明出处。"
      ],
      "metadata": {
        "id": "PU24lLvVfItN"
      }
    },
    {
      "cell_type": "code",
      "source": [
        "\"\"\"\n",
        "思路：利用回溯算法，确定3 keys：\n",
        "choices : 从字典里选择一个字符；\n",
        "constrain : 只能一次添加一个数字， 不重复使用；\n",
        "goal : 构建一个列表，里面包含跟输入数字长度一致的字符串\n",
        "关键：与传统算法不一致的是需要添加另外一个参数index。\n",
        "\"\"\"\n",
        "def letterCombinations(lst):\n",
        "  args = ''\n",
        "  ans = []\n",
        "  index = 0\n",
        "  mapping = {\n",
        "     '2': 'abc',\n",
        "     '3': 'def',\n",
        "     '4': 'ghi',\n",
        "     '5': 'jkl',\n",
        "     '6': 'mno',\n",
        "     '7': 'pqrs',\n",
        "     '8': 'tuv',\n",
        "     '9': 'wxyz'\n",
        "}\n",
        "  def helper(lst, index, args, ans):\n",
        "    if len(args) == len(lst):\n",
        "      ans.append(args[:])\n",
        "      return\n",
        "    digit = lst[index]\n",
        "    words = mapping[digit]\n",
        "    for word in words:\n",
        "      args += word\n",
        "      helper(lst, index+1,args, ans)\n",
        "      args = args[:-1]\n",
        "    return ans\n",
        "  return helper(lst, index, args, ans)"
      ],
      "metadata": {
        "id": "rskYK4SpWSUR"
      },
      "execution_count": null,
      "outputs": []
    },
    {
      "cell_type": "code",
      "source": [
        "d = '23'\n",
        "letterCombinations(d)"
      ],
      "metadata": {
        "colab": {
          "base_uri": "https://localhost:8080/"
        },
        "id": "FmvszPBMZ0g8",
        "outputId": "387e7499-cdaa-4726-ff08-748b90c85023"
      },
      "execution_count": null,
      "outputs": [
        {
          "output_type": "execute_result",
          "data": {
            "text/plain": [
              "['ad', 'ae', 'af', 'bd', 'be', 'bf', 'cd', 'ce', 'cf']"
            ]
          },
          "metadata": {},
          "execution_count": 18
        }
      ]
    }
  ]
}