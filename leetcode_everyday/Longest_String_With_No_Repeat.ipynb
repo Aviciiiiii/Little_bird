{
  "cells": [
    {
      "cell_type": "code",
      "execution_count": 1,
      "metadata": {
        "colab": {
          "base_uri": "https://localhost:8080/"
        },
        "id": "v9XWZ9gCE8HM",
        "outputId": "1f3f1756-f75b-4880-9c6a-e715155b6765"
      },
      "outputs": [
        {
          "data": {
            "application/vnd.google.colaboratory.intrinsic+json": {
              "type": "string"
            },
            "text/plain": [
              "'\\n给定一个字符串 s ，请你找出其中不含有重复字符的\\xa0最长子串\\xa0的长度。\\n\\n\\xa0\\n\\n示例\\xa01:\\n\\n输入: s = \"abcabcbb\"\\n输出: 3 \\n解释: 因为无重复字符的最长子串是 \"abc\"，所以其长度为 3。\\n\\n来源：力扣（LeetCode）\\n链接：https://leetcode.cn/problems/longest-substring-without-repeating-characters\\n著作权归领扣网络所有。商业转载请联系官方授权，非商业转载请注明出处。\\n'"
            ]
          },
          "execution_count": 1,
          "metadata": {},
          "output_type": "execute_result"
        }
      ],
      "source": [
        "\"\"\"\n",
        "给定一个字符串 s ，请你找出其中不含有重复字符的 最长子串 的长度。\n",
        "\n",
        " \n",
        "\n",
        "示例 1:\n",
        "\n",
        "输入: s = \"abcabcbb\"\n",
        "输出: 3 \n",
        "解释: 因为无重复字符的最长子串是 \"abc\"，所以其长度为 3。\n",
        "\n",
        "来源：力扣（LeetCode）\n",
        "链接：https://leetcode.cn/problems/longest-substring-without-repeating-characters\n",
        "著作权归领扣网络所有。商业转载请联系官方授权，非商业转载请注明出处。\n",
        "\"\"\""
      ]
    },
    {
      "cell_type": "code",
      "execution_count": null,
      "metadata": {
        "id": "wWcuOiQLLEdo"
      },
      "outputs": [],
      "source": [
        "\"\"\"\n",
        "思路：添加两个指针（start，end），来夹取最大无重复字符串，用字典来记录并检查字符重复节省复杂度\n",
        "\"\"\"\n",
        "def longest_no_repeat(s):\n",
        "  start = 0\n",
        "  max_length = 0\n",
        "  val_idx = {}\n",
        "  for end in range(len(s)):\n",
        "    if s[end] not in val_idx:\n",
        "      val_idx[s[end]] = end\n",
        "    else:\n",
        "      if val_idx[s[end]] >= start: #这里注意要加\"=\"，来注意后面字符与start第一次索引的字符重复\n",
        "        start = val_idx[s[end]] + 1 #其中val_idx[s[end]]是指遇到重复字符时的第一个索引，故让start跳过第一个重复字符\n",
        "      val_idx[s[end]] = end #更新重复字符索引为重复的第二个字符索引\n",
        "    length = end - start + 1 #\n",
        "    if length > max_length: #注意把这三行放置于循环外，不然只有遇到重复字符 max_length才会更新\n",
        "      max_length = length #\n",
        "  return max_length"
      ]
    },
    {
      "cell_type": "code",
      "execution_count": null,
      "metadata": {
        "colab": {
          "base_uri": "https://localhost:8080/"
        },
        "id": "S_y45304QfAp",
        "outputId": "8e439604-3168-46b8-a59e-be9021ceca6e"
      },
      "outputs": [
        {
          "data": {
            "text/plain": [
              "2"
            ]
          },
          "execution_count": 17,
          "metadata": {},
          "output_type": "execute_result"
        }
      ],
      "source": [
        "t = \"abba\"\n",
        "longest_no_repeat(t)"
      ]
    }
  ],
  "metadata": {
    "colab": {
      "provenance": []
    },
    "kernelspec": {
      "display_name": "Python 3",
      "name": "python3"
    },
    "language_info": {
      "name": "python"
    }
  },
  "nbformat": 4,
  "nbformat_minor": 0
}
