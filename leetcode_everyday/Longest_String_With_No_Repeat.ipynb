{
  "nbformat": 4,
  "nbformat_minor": 0,
  "metadata": {
    "colab": {
      "provenance": []
    },
    "kernelspec": {
      "name": "python3",
      "display_name": "Python 3"
    },
    "language_info": {
      "name": "python"
    }
  },
  "cells": [
    {
      "cell_type": "code",
      "execution_count": 1,
      "metadata": {
        "colab": {
          "base_uri": "https://localhost:8080/"
        },
        "id": "v9XWZ9gCE8HM",
        "outputId": "1f3f1756-f75b-4880-9c6a-e715155b6765"
      },
      "outputs": [
        {
          "output_type": "execute_result",
          "data": {
            "text/plain": [
              "'\\n给定一个字符串 s ，请你找出其中不含有重复字符的\\xa0最长子串\\xa0的长度。\\n\\n\\xa0\\n\\n示例\\xa01:\\n\\n输入: s = \"abcabcbb\"\\n输出: 3 \\n解释: 因为无重复字符的最长子串是 \"abc\"，所以其长度为 3。\\n\\n来源：力扣（LeetCode）\\n链接：https://leetcode.cn/problems/longest-substring-without-repeating-characters\\n著作权归领扣网络所有。商业转载请联系官方授权，非商业转载请注明出处。\\n'"
            ],
            "application/vnd.google.colaboratory.intrinsic+json": {
              "type": "string"
            }
          },
          "metadata": {},
          "execution_count": 1
        }
      ],
      "source": [
        "\"\"\"\n",
        "给定一个字符串 s ，请你找出其中不含有重复字符的 最长子串 的长度。\n",
        "\n",
        " \n",
        "\n",
        "示例 1:\n",
        "\n",
        "输入: s = \"abcabcbb\"\n",
        "输出: 3 \n",
        "解释: 因为无重复字符的最长子串是 \"abc\"，所以其长度为 3。\n",
        "\n",
        "来源：力扣（LeetCode）\n",
        "链接：https://leetcode.cn/problems/longest-substring-without-repeating-characters\n",
        "著作权归领扣网络所有。商业转载请联系官方授权，非商业转载请注明出处。\n",
        "\"\"\""
      ]
    },
    {
      "cell_type": "code",
      "source": [
        "def longest_no_repeat(s):\n",
        "  start = 0\n",
        "  max_length = 0\n",
        "  val_idx = {}\n",
        "  for end in range(len(s)):\n",
        "    if s[end] not in val_idx:\n",
        "      val_idx[s[end]] = end\n",
        "    else:\n",
        "      if val_idx[s[end]] >= start:\n",
        "        start = val_idx[s[end]] + 1\n",
        "      val_idx[s[end]] = end\n",
        "    length = end - start + 1\n",
        "    if length > max_length:\n",
        "      max_length = length\n",
        "  return max_length"
      ],
      "metadata": {
        "id": "wWcuOiQLLEdo"
      },
      "execution_count": null,
      "outputs": []
    },
    {
      "cell_type": "code",
      "source": [
        "t = \"abba\"\n",
        "longest_no_repeat(t)"
      ],
      "metadata": {
        "colab": {
          "base_uri": "https://localhost:8080/"
        },
        "id": "S_y45304QfAp",
        "outputId": "8e439604-3168-46b8-a59e-be9021ceca6e"
      },
      "execution_count": null,
      "outputs": [
        {
          "output_type": "execute_result",
          "data": {
            "text/plain": [
              "2"
            ]
          },
          "metadata": {},
          "execution_count": 17
        }
      ]
    }
  ]
}