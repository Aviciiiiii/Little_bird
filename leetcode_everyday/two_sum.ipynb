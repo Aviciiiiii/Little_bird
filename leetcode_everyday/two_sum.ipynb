{
 "cells": [
  {
   "cell_type": "code",
   "execution_count": 15,
   "metadata": {
    "id": "iawCZ1GkNxXo"
   },
   "outputs": [],
   "source": [
    "\"\"\"\n",
    "输入：nums = [2,7,11,15], target = 9\n",
    "输出：[0,1]\n",
    "解释：因为 nums[0] + nums[1] == 9 ，返回 [0, 1] 。\n",
    "\n",
    "来源：力扣（LeetCode）\n",
    "链接：https://leetcode.cn/problems/two-sum\n",
    "著作权归领扣网络所有。商业转载请联系官方授权，非商业转载请注明出处。\n",
    "\"\"\"\n",
    "\n",
    "def two_sum(nums, target):\n",
    "  ans = []\n",
    "  dic = {}\n",
    "  for n in range(len(nums)):\n",
    "    dic[nums[n]] = n\n",
    "  for i in range(len(nums)):\n",
    "    indx = target - nums[i]\n",
    "    if indx in nums:\n",
    "      a = i\n",
    "      b = dic[indx]\n",
    "      if a != b:\n",
    "        ans.append(a)\n",
    "        ans.append(b)\n",
    "        return a,b\n",
    "      else:\n",
    "        continue"
   ]
  },
  {
   "cell_type": "code",
   "execution_count": 16,
   "metadata": {
    "colab": {
     "base_uri": "https://localhost:8080/"
    },
    "id": "d6qes8tqVhS5",
    "outputId": "aa0b8cd8-ac3a-4ebc-fe27-e659dbe32e0e"
   },
   "outputs": [
    {
     "data": {
      "text/plain": [
       "(0, 1)"
      ]
     },
     "execution_count": 16,
     "metadata": {},
     "output_type": "execute_result"
    }
   ],
   "source": [
    "nums = [2, 7, 11, 15]\n",
    "target = 9\n",
    "two_sum(nums, target)"
   ]
  },
  {
   "cell_type": "code",
   "execution_count": null,
   "metadata": {
    "id": "jbb7OP8DVt0S"
   },
   "outputs": [],
   "source": []
  }
 ],
 "metadata": {
  "colab": {
   "provenance": []
  },
  "kernelspec": {
   "display_name": "Python 3 (ipykernel)",
   "language": "python",
   "name": "python3"
  },
  "language_info": {
   "codemirror_mode": {
    "name": "ipython",
    "version": 3
   },
   "file_extension": ".py",
   "mimetype": "text/x-python",
   "name": "python",
   "nbconvert_exporter": "python",
   "pygments_lexer": "ipython3",
   "version": "3.10.12"
  }
 },
 "nbformat": 4,
 "nbformat_minor": 4
}
