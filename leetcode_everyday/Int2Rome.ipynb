{
  "nbformat": 4,
  "nbformat_minor": 0,
  "metadata": {
    "colab": {
      "provenance": []
    },
    "kernelspec": {
      "name": "python3",
      "display_name": "Python 3"
    },
    "language_info": {
      "name": "python"
    }
  },
  "cells": [
    {
      "cell_type": "markdown",
      "source": [
        "# Int2Rome\n",
        "罗马数字包含以下七种字符： I， V， X， L，C，D 和 M。\n",
        "\n",
        "字符          数值\n",
        "I             1\n",
        "V             5\n",
        "X             10\n",
        "L             50\n",
        "C             100\n",
        "D             500\n",
        "M             1000\n",
        "例如， 罗马数字 2 写做 II ，即为两个并列的 1。12 写做 XII ，即为 X + II 。 27 写做  XXVII, 即为 XX + V + II 。\n",
        "\n",
        "通常情况下，罗马数字中小的数字在大的数字的右边。但也存在特例，例如 4 不写做 IIII，而是 IV。数字 1 在数字 5 的左边，所表示的数等于大数 5 减小数 1 得到的数值 4 。同样地，数字 9 表示为 IX。这个特殊的规则只适用于以下六种情况：\n",
        "\n",
        "I 可以放在 V (5) 和 X (10) 的左边，来表示 4 和 9。\n",
        "X 可以放在 L (50) 和 C (100) 的左边，来表示 40 和 90。 \n",
        "C 可以放在 D (500) 和 M (1000) 的左边，来表示 400 和 900。\n",
        "给你一个整数，将其转为罗马数字。\n",
        "\n",
        " \n",
        "\n",
        "示例 1:\n",
        "\n",
        "输入: num = 3\n",
        "输出: \"III\"\n",
        "\n",
        "来源：力扣（LeetCode）\n",
        "链接：https://leetcode.cn/problems/integer-to-roman\n",
        "著作权归领扣网络所有。商业转载请联系官方授权，非商业转载请注明出处。"
      ],
      "metadata": {
        "id": "lzNYb_i-CxZC"
      }
    },
    {
      "cell_type": "code",
      "source": [
        "#思路：从罗马数值大的字符开始转换，每到一级添加相应字符，直到减小到下一级\n",
        "#技巧：1、用字典来储存字符相对应的数值（在pythonpython3之后，字典会记录插入顺序）\n",
        "#     2、要考虑开头是4/9的情况，可以直接在字典设置开头是4/9（小于最大数（1000））的数字\n",
        "def int2rome(num):\n",
        "  mapping = {1000: 'M', 900: 'CM', 500: 'D', 400: 'CD', 100: 'C', 90: 'XC', 50: 'L', 40: 'XL', 10: 'X', 9: 'IX', 5: 'V', 4: 'IV', 1: 'I'}\n",
        "  count = \"\" #考虑到返回类型是字符串，故直接设定字符连接来添加罗马数字\n",
        "  for n in mapping:\n",
        "    while num >= n: #再次利用到了while比for快到原理\n",
        "      count += mapping[n]\n",
        "      num -= n\n",
        "    if num <= 0: #优化：考虑刚好整数就是罗马数字对应的整数，break出来可以加速\n",
        "      break\n",
        "  return count\n"
      ],
      "metadata": {
        "id": "TTUgWNXG7Qs3"
      },
      "execution_count": null,
      "outputs": []
    },
    {
      "cell_type": "code",
      "source": [
        "int2rome(9999)"
      ],
      "metadata": {
        "colab": {
          "base_uri": "https://localhost:8080/",
          "height": 37
        },
        "id": "gzyB7wsgAPtC",
        "outputId": "319d2ac5-c16b-4c7d-cc6b-9b9ac718c7c3"
      },
      "execution_count": null,
      "outputs": [
        {
          "output_type": "execute_result",
          "data": {
            "text/plain": [
              "'MMMMMMMMMCMXCIX'"
            ],
            "application/vnd.google.colaboratory.intrinsic+json": {
              "type": "string"
            }
          },
          "metadata": {},
          "execution_count": 14
        }
      ]
    }
  ]
}