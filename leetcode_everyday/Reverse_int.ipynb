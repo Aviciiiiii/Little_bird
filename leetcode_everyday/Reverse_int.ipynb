{
  "nbformat": 4,
  "nbformat_minor": 0,
  "metadata": {
    "colab": {
      "provenance": []
    },
    "kernelspec": {
      "name": "python3",
      "display_name": "Python 3"
    },
    "language_info": {
      "name": "python"
    }
  },
  "cells": [
    {
      "cell_type": "markdown",
      "source": [
        "## Reverse_int\n",
        "给你一个 32 位的有符号整数 x ，返回将 x 中的数字部分反转后的结果。\n",
        "\n",
        "如果反转后整数超过 32 位的有符号整数的范围 [−231,  231 − 1] ，就返回 0。\n",
        "\n",
        "假设环境不允许存储 64 位整数（有符号或无符号）。\n",
        " \n",
        "\n",
        "示例 1：\n",
        "\n",
        "输入：x = 123\n",
        "输出：321\n",
        "\n",
        "来源：力扣（LeetCode）\n",
        "链接：https://leetcode.cn/problems/reverse-integer\n",
        "著作权归领扣网络所有。商业转载请联系官方授权，非商业转载请注明出处。"
      ],
      "metadata": {
        "id": "vMT8CMv1cs-5"
      }
    },
    {
      "cell_type": "code",
      "source": [
        "def reverse_int(n):\n",
        "  j = 0\n",
        "  if n < 0:\n",
        "    j = 1\n",
        "    n = -n\n",
        "  count = 0\n",
        "  while n % 10 != 0 or n // 10 != 0:\n",
        "    count1 = n % 10\n",
        "    count = count * 10 + count1\n",
        "    n = n // 10\n",
        "  if (count < -2**31) or (count > 2**31 -1):\n",
        "    return 0\n",
        "  if j == 1:\n",
        "    return -count\n",
        "  return count"
      ],
      "metadata": {
        "id": "3CLE_XeiQ5nj"
      },
      "execution_count": 1,
      "outputs": []
    },
    {
      "cell_type": "code",
      "source": [
        "reverse_int(2147483648)"
      ],
      "metadata": {
        "colab": {
          "base_uri": "https://localhost:8080/"
        },
        "id": "3ZLm4AOMTT5L",
        "outputId": "ddb6e5ef-dca9-41c3-dedd-cff51402c035"
      },
      "execution_count": 2,
      "outputs": [
        {
          "output_type": "execute_result",
          "data": {
            "text/plain": [
              "0"
            ]
          },
          "metadata": {},
          "execution_count": 2
        }
      ]
    },
    {
      "cell_type": "code",
      "source": [],
      "metadata": {
        "id": "-RAas2EtdAjE"
      },
      "execution_count": null,
      "outputs": []
    }
  ]
}